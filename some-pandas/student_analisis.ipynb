{
 "cells": [
  {
   "cell_type": "markdown",
   "metadata": {},
   "source": [
    "# Student Analsis\n",
    "\n",
    "\n",
    "In this notebook I present to you data taken out of a real highschool. In this dataset we have a total of 16 variables and a single class. Most of the data is categorical, this means it is divided into a certain ammount of pre-defined categories. There also a few columns that have numerical data in the form of integers. In this notebook we will try to extract some key features in order to better understand the dataset and as part of the field of 'Data Analysis'."
   ]
  },
  {
   "cell_type": "markdown",
   "metadata": {},
   "source": [
    "## Step 0: \n",
    "### Load the data into a pandas dataframe\n",
    "\n",
    "How do you intend to do data analysis without loading the data????\n",
    "# ?"
   ]
  },
  {
   "cell_type": "code",
   "execution_count": 1,
   "metadata": {},
   "outputs": [],
   "source": [
    "import pandas as pd\r\n",
    "import numpy as np\r\n",
    "import warnings\r\n",
    "warnings.filterwarnings('ignore')"
   ]
  },
  {
   "cell_type": "code",
   "execution_count": 2,
   "metadata": {},
   "outputs": [],
   "source": [
    "df = pd.read_csv(\"xAPI-Edu-Data.csv\")"
   ]
  },
  {
   "cell_type": "markdown",
   "metadata": {},
   "source": [
    "## Step 1: \n",
    "### Print some elements from the dataset in order to take a quick look at the dataset\n",
    "\n",
    "Understanding the data you are working with is very important"
   ]
  },
  {
   "cell_type": "code",
   "execution_count": 3,
   "metadata": {},
   "outputs": [
    {
     "data": {
      "text/html": [
       "<div>\n",
       "<style scoped>\n",
       "    .dataframe tbody tr th:only-of-type {\n",
       "        vertical-align: middle;\n",
       "    }\n",
       "\n",
       "    .dataframe tbody tr th {\n",
       "        vertical-align: top;\n",
       "    }\n",
       "\n",
       "    .dataframe thead th {\n",
       "        text-align: right;\n",
       "    }\n",
       "</style>\n",
       "<table border=\"1\" class=\"dataframe\">\n",
       "  <thead>\n",
       "    <tr style=\"text-align: right;\">\n",
       "      <th></th>\n",
       "      <th>gender</th>\n",
       "      <th>NationalITy</th>\n",
       "      <th>PlaceofBirth</th>\n",
       "      <th>StageID</th>\n",
       "      <th>GradeID</th>\n",
       "      <th>SectionID</th>\n",
       "      <th>Topic</th>\n",
       "      <th>Semester</th>\n",
       "      <th>Relation</th>\n",
       "      <th>raisedhands</th>\n",
       "      <th>VisITedResources</th>\n",
       "      <th>AnnouncementsView</th>\n",
       "      <th>Discussion</th>\n",
       "      <th>ParentAnsweringSurvey</th>\n",
       "      <th>ParentschoolSatisfaction</th>\n",
       "      <th>StudentAbsenceDays</th>\n",
       "      <th>Class</th>\n",
       "    </tr>\n",
       "  </thead>\n",
       "  <tbody>\n",
       "    <tr>\n",
       "      <th>367</th>\n",
       "      <td>M</td>\n",
       "      <td>Jordan</td>\n",
       "      <td>Jordan</td>\n",
       "      <td>lowerlevel</td>\n",
       "      <td>G-02</td>\n",
       "      <td>A</td>\n",
       "      <td>Arabic</td>\n",
       "      <td>S</td>\n",
       "      <td>Father</td>\n",
       "      <td>10</td>\n",
       "      <td>58</td>\n",
       "      <td>51</td>\n",
       "      <td>48</td>\n",
       "      <td>Yes</td>\n",
       "      <td>Good</td>\n",
       "      <td>Above-7</td>\n",
       "      <td>M</td>\n",
       "    </tr>\n",
       "    <tr>\n",
       "      <th>232</th>\n",
       "      <td>M</td>\n",
       "      <td>Syria</td>\n",
       "      <td>Syria</td>\n",
       "      <td>MiddleSchool</td>\n",
       "      <td>G-07</td>\n",
       "      <td>A</td>\n",
       "      <td>Quran</td>\n",
       "      <td>F</td>\n",
       "      <td>Father</td>\n",
       "      <td>19</td>\n",
       "      <td>72</td>\n",
       "      <td>15</td>\n",
       "      <td>50</td>\n",
       "      <td>Yes</td>\n",
       "      <td>Good</td>\n",
       "      <td>Above-7</td>\n",
       "      <td>M</td>\n",
       "    </tr>\n",
       "    <tr>\n",
       "      <th>296</th>\n",
       "      <td>F</td>\n",
       "      <td>Jordan</td>\n",
       "      <td>Jordan</td>\n",
       "      <td>lowerlevel</td>\n",
       "      <td>G-04</td>\n",
       "      <td>A</td>\n",
       "      <td>Science</td>\n",
       "      <td>F</td>\n",
       "      <td>Mum</td>\n",
       "      <td>98</td>\n",
       "      <td>87</td>\n",
       "      <td>86</td>\n",
       "      <td>84</td>\n",
       "      <td>No</td>\n",
       "      <td>Good</td>\n",
       "      <td>Under-7</td>\n",
       "      <td>H</td>\n",
       "    </tr>\n",
       "    <tr>\n",
       "      <th>166</th>\n",
       "      <td>M</td>\n",
       "      <td>KW</td>\n",
       "      <td>KuwaIT</td>\n",
       "      <td>lowerlevel</td>\n",
       "      <td>G-02</td>\n",
       "      <td>B</td>\n",
       "      <td>French</td>\n",
       "      <td>S</td>\n",
       "      <td>Mum</td>\n",
       "      <td>51</td>\n",
       "      <td>82</td>\n",
       "      <td>53</td>\n",
       "      <td>43</td>\n",
       "      <td>No</td>\n",
       "      <td>Bad</td>\n",
       "      <td>Under-7</td>\n",
       "      <td>M</td>\n",
       "    </tr>\n",
       "    <tr>\n",
       "      <th>158</th>\n",
       "      <td>M</td>\n",
       "      <td>Tunis</td>\n",
       "      <td>KuwaIT</td>\n",
       "      <td>MiddleSchool</td>\n",
       "      <td>G-07</td>\n",
       "      <td>B</td>\n",
       "      <td>Science</td>\n",
       "      <td>S</td>\n",
       "      <td>Father</td>\n",
       "      <td>22</td>\n",
       "      <td>51</td>\n",
       "      <td>48</td>\n",
       "      <td>10</td>\n",
       "      <td>No</td>\n",
       "      <td>Bad</td>\n",
       "      <td>Above-7</td>\n",
       "      <td>L</td>\n",
       "    </tr>\n",
       "    <tr>\n",
       "      <th>129</th>\n",
       "      <td>M</td>\n",
       "      <td>KW</td>\n",
       "      <td>KuwaIT</td>\n",
       "      <td>lowerlevel</td>\n",
       "      <td>G-02</td>\n",
       "      <td>B</td>\n",
       "      <td>IT</td>\n",
       "      <td>F</td>\n",
       "      <td>Father</td>\n",
       "      <td>70</td>\n",
       "      <td>90</td>\n",
       "      <td>2</td>\n",
       "      <td>2</td>\n",
       "      <td>Yes</td>\n",
       "      <td>Good</td>\n",
       "      <td>Under-7</td>\n",
       "      <td>L</td>\n",
       "    </tr>\n",
       "    <tr>\n",
       "      <th>452</th>\n",
       "      <td>F</td>\n",
       "      <td>Jordan</td>\n",
       "      <td>Jordan</td>\n",
       "      <td>MiddleSchool</td>\n",
       "      <td>G-08</td>\n",
       "      <td>A</td>\n",
       "      <td>Geology</td>\n",
       "      <td>F</td>\n",
       "      <td>Father</td>\n",
       "      <td>25</td>\n",
       "      <td>82</td>\n",
       "      <td>52</td>\n",
       "      <td>20</td>\n",
       "      <td>Yes</td>\n",
       "      <td>Good</td>\n",
       "      <td>Above-7</td>\n",
       "      <td>M</td>\n",
       "    </tr>\n",
       "    <tr>\n",
       "      <th>468</th>\n",
       "      <td>F</td>\n",
       "      <td>Jordan</td>\n",
       "      <td>Jordan</td>\n",
       "      <td>MiddleSchool</td>\n",
       "      <td>G-08</td>\n",
       "      <td>A</td>\n",
       "      <td>Chemistry</td>\n",
       "      <td>F</td>\n",
       "      <td>Father</td>\n",
       "      <td>15</td>\n",
       "      <td>9</td>\n",
       "      <td>14</td>\n",
       "      <td>80</td>\n",
       "      <td>No</td>\n",
       "      <td>Bad</td>\n",
       "      <td>Above-7</td>\n",
       "      <td>L</td>\n",
       "    </tr>\n",
       "    <tr>\n",
       "      <th>379</th>\n",
       "      <td>M</td>\n",
       "      <td>Jordan</td>\n",
       "      <td>Jordan</td>\n",
       "      <td>lowerlevel</td>\n",
       "      <td>G-02</td>\n",
       "      <td>B</td>\n",
       "      <td>Arabic</td>\n",
       "      <td>S</td>\n",
       "      <td>Father</td>\n",
       "      <td>12</td>\n",
       "      <td>22</td>\n",
       "      <td>59</td>\n",
       "      <td>83</td>\n",
       "      <td>Yes</td>\n",
       "      <td>Bad</td>\n",
       "      <td>Above-7</td>\n",
       "      <td>L</td>\n",
       "    </tr>\n",
       "    <tr>\n",
       "      <th>205</th>\n",
       "      <td>F</td>\n",
       "      <td>SaudiArabia</td>\n",
       "      <td>SaudiArabia</td>\n",
       "      <td>MiddleSchool</td>\n",
       "      <td>G-08</td>\n",
       "      <td>B</td>\n",
       "      <td>Arabic</td>\n",
       "      <td>S</td>\n",
       "      <td>Mum</td>\n",
       "      <td>72</td>\n",
       "      <td>51</td>\n",
       "      <td>42</td>\n",
       "      <td>24</td>\n",
       "      <td>Yes</td>\n",
       "      <td>Bad</td>\n",
       "      <td>Above-7</td>\n",
       "      <td>H</td>\n",
       "    </tr>\n",
       "  </tbody>\n",
       "</table>\n",
       "</div>"
      ],
      "text/plain": [
       "    gender  NationalITy PlaceofBirth       StageID GradeID SectionID  \\\n",
       "367      M       Jordan       Jordan    lowerlevel    G-02         A   \n",
       "232      M        Syria        Syria  MiddleSchool    G-07         A   \n",
       "296      F       Jordan       Jordan    lowerlevel    G-04         A   \n",
       "166      M           KW       KuwaIT    lowerlevel    G-02         B   \n",
       "158      M        Tunis       KuwaIT  MiddleSchool    G-07         B   \n",
       "129      M           KW       KuwaIT    lowerlevel    G-02         B   \n",
       "452      F       Jordan       Jordan  MiddleSchool    G-08         A   \n",
       "468      F       Jordan       Jordan  MiddleSchool    G-08         A   \n",
       "379      M       Jordan       Jordan    lowerlevel    G-02         B   \n",
       "205      F  SaudiArabia  SaudiArabia  MiddleSchool    G-08         B   \n",
       "\n",
       "         Topic Semester Relation  raisedhands  VisITedResources  \\\n",
       "367     Arabic        S   Father           10                58   \n",
       "232      Quran        F   Father           19                72   \n",
       "296    Science        F      Mum           98                87   \n",
       "166     French        S      Mum           51                82   \n",
       "158    Science        S   Father           22                51   \n",
       "129         IT        F   Father           70                90   \n",
       "452    Geology        F   Father           25                82   \n",
       "468  Chemistry        F   Father           15                 9   \n",
       "379     Arabic        S   Father           12                22   \n",
       "205     Arabic        S      Mum           72                51   \n",
       "\n",
       "     AnnouncementsView  Discussion ParentAnsweringSurvey  \\\n",
       "367                 51          48                   Yes   \n",
       "232                 15          50                   Yes   \n",
       "296                 86          84                    No   \n",
       "166                 53          43                    No   \n",
       "158                 48          10                    No   \n",
       "129                  2           2                   Yes   \n",
       "452                 52          20                   Yes   \n",
       "468                 14          80                    No   \n",
       "379                 59          83                   Yes   \n",
       "205                 42          24                   Yes   \n",
       "\n",
       "    ParentschoolSatisfaction StudentAbsenceDays Class  \n",
       "367                     Good            Above-7     M  \n",
       "232                     Good            Above-7     M  \n",
       "296                     Good            Under-7     H  \n",
       "166                      Bad            Under-7     M  \n",
       "158                      Bad            Above-7     L  \n",
       "129                     Good            Under-7     L  \n",
       "452                     Good            Above-7     M  \n",
       "468                      Bad            Above-7     L  \n",
       "379                      Bad            Above-7     L  \n",
       "205                      Bad            Above-7     H  "
      ]
     },
     "execution_count": 3,
     "metadata": {},
     "output_type": "execute_result"
    }
   ],
   "source": [
    "# Print 10 e random elements from the dataset.\r\n",
    "df.sample(n=10)"
   ]
  },
  {
   "cell_type": "markdown",
   "metadata": {},
   "source": [
    "## Step 2:\n",
    "### Check for missing or null values\n",
    "\n",
    "We should always check for missing values as part of getting familiarized with our data.\n"
   ]
  },
  {
   "cell_type": "code",
   "execution_count": 4,
   "metadata": {},
   "outputs": [
    {
     "data": {
      "text/plain": [
       "gender                      0\n",
       "NationalITy                 0\n",
       "PlaceofBirth                0\n",
       "StageID                     0\n",
       "GradeID                     0\n",
       "SectionID                   0\n",
       "Topic                       0\n",
       "Semester                    0\n",
       "Relation                    0\n",
       "raisedhands                 0\n",
       "VisITedResources            0\n",
       "AnnouncementsView           0\n",
       "Discussion                  0\n",
       "ParentAnsweringSurvey       0\n",
       "ParentschoolSatisfaction    0\n",
       "StudentAbsenceDays          0\n",
       "Class                       0\n",
       "dtype: int64"
      ]
     },
     "execution_count": 4,
     "metadata": {},
     "output_type": "execute_result"
    }
   ],
   "source": [
    "# check for null values\r\n",
    "df.isnull().sum()"
   ]
  },
  {
   "cell_type": "markdown",
   "metadata": {},
   "source": [
    "## Step 3:\n",
    "### which is the column with the highest ammount of VARIABILITY?\n",
    "\n",
    "Time to start extracting info.\n"
   ]
  },
  {
   "cell_type": "code",
   "execution_count": 5,
   "metadata": {},
   "outputs": [
    {
     "data": {
      "text/html": [
       "<div>\n",
       "<style scoped>\n",
       "    .dataframe tbody tr th:only-of-type {\n",
       "        vertical-align: middle;\n",
       "    }\n",
       "\n",
       "    .dataframe tbody tr th {\n",
       "        vertical-align: top;\n",
       "    }\n",
       "\n",
       "    .dataframe thead th {\n",
       "        text-align: right;\n",
       "    }\n",
       "</style>\n",
       "<table border=\"1\" class=\"dataframe\">\n",
       "  <thead>\n",
       "    <tr style=\"text-align: right;\">\n",
       "      <th></th>\n",
       "      <th>gender</th>\n",
       "      <th>NationalITy</th>\n",
       "      <th>PlaceofBirth</th>\n",
       "      <th>StageID</th>\n",
       "      <th>GradeID</th>\n",
       "      <th>SectionID</th>\n",
       "      <th>Topic</th>\n",
       "      <th>Semester</th>\n",
       "      <th>Relation</th>\n",
       "      <th>raisedhands</th>\n",
       "      <th>VisITedResources</th>\n",
       "      <th>AnnouncementsView</th>\n",
       "      <th>Discussion</th>\n",
       "      <th>ParentAnsweringSurvey</th>\n",
       "      <th>ParentschoolSatisfaction</th>\n",
       "      <th>StudentAbsenceDays</th>\n",
       "      <th>Class</th>\n",
       "    </tr>\n",
       "  </thead>\n",
       "  <tbody>\n",
       "    <tr>\n",
       "      <th>0</th>\n",
       "      <td>M</td>\n",
       "      <td>KW</td>\n",
       "      <td>KuwaIT</td>\n",
       "      <td>lowerlevel</td>\n",
       "      <td>G-04</td>\n",
       "      <td>A</td>\n",
       "      <td>IT</td>\n",
       "      <td>F</td>\n",
       "      <td>Father</td>\n",
       "      <td>15</td>\n",
       "      <td>16</td>\n",
       "      <td>2</td>\n",
       "      <td>20</td>\n",
       "      <td>Yes</td>\n",
       "      <td>Good</td>\n",
       "      <td>Under-7</td>\n",
       "      <td>M</td>\n",
       "    </tr>\n",
       "  </tbody>\n",
       "</table>\n",
       "</div>"
      ],
      "text/plain": [
       "  gender NationalITy PlaceofBirth     StageID GradeID SectionID Topic  \\\n",
       "0      M          KW       KuwaIT  lowerlevel    G-04         A    IT   \n",
       "\n",
       "  Semester Relation  raisedhands  VisITedResources  AnnouncementsView  \\\n",
       "0        F   Father           15                16                  2   \n",
       "\n",
       "   Discussion ParentAnsweringSurvey ParentschoolSatisfaction  \\\n",
       "0          20                   Yes                     Good   \n",
       "\n",
       "  StudentAbsenceDays Class  \n",
       "0            Under-7     M  "
      ]
     },
     "execution_count": 5,
     "metadata": {},
     "output_type": "execute_result"
    }
   ],
   "source": [
    "df[:1]"
   ]
  },
  {
   "cell_type": "markdown",
   "metadata": {},
   "source": [
    "I'd rather not do it by hand... Let's automatise. :)\r\n",
    "\r\n",
    "First we're gonna make big dictionary in which we will store translations for all the columns!\r\n",
    "\r\n",
    "But first we need the column names that we want to change to numbers."
   ]
  },
  {
   "cell_type": "code",
   "execution_count": 6,
   "metadata": {},
   "outputs": [
    {
     "data": {
      "text/plain": [
       "['GradeID',\n",
       " 'NationalITy',\n",
       " 'ParentAnsweringSurvey',\n",
       " 'ParentschoolSatisfaction',\n",
       " 'PlaceofBirth',\n",
       " 'Relation',\n",
       " 'SectionID',\n",
       " 'Semester',\n",
       " 'StageID',\n",
       " 'StudentAbsenceDays',\n",
       " 'Topic',\n",
       " 'gender']"
      ]
     },
     "execution_count": 6,
     "metadata": {},
     "output_type": "execute_result"
    }
   ],
   "source": [
    "column_names1 = df.loc[:,:\"Relation\"].columns\r\n",
    "column_names2 = df.loc[:,\"ParentAnsweringSurvey\":\"StudentAbsenceDays\"].columns\r\n",
    "column_names = list(column_names1) + list(column_names2)\r\n",
    "column_names.sort()\r\n",
    "column_names"
   ]
  },
  {
   "cell_type": "code",
   "execution_count": 7,
   "metadata": {},
   "outputs": [
    {
     "data": {
      "text/plain": [
       "{'GradeID': {'G-02': 0,\n",
       "  'G-04': 1,\n",
       "  'G-05': 2,\n",
       "  'G-06': 3,\n",
       "  'G-07': 4,\n",
       "  'G-08': 5,\n",
       "  'G-09': 6,\n",
       "  'G-10': 7,\n",
       "  'G-11': 8,\n",
       "  'G-12': 9},\n",
       " 'NationalITy': {'Egypt': 0,\n",
       "  'Iran': 1,\n",
       "  'Iraq': 2,\n",
       "  'Jordan': 3,\n",
       "  'KW': 4,\n",
       "  'Lybia': 5,\n",
       "  'Morocco': 6,\n",
       "  'Palestine': 7,\n",
       "  'SaudiArabia': 8,\n",
       "  'Syria': 9,\n",
       "  'Tunis': 10,\n",
       "  'USA': 11,\n",
       "  'lebanon': 12,\n",
       "  'venzuela': 13},\n",
       " 'ParentAnsweringSurvey': {'No': 0, 'Yes': 1},\n",
       " 'ParentschoolSatisfaction': {'Bad': 0, 'Good': 1},\n",
       " 'PlaceofBirth': {'Egypt': 0,\n",
       "  'Iran': 1,\n",
       "  'Iraq': 2,\n",
       "  'Jordan': 3,\n",
       "  'KuwaIT': 4,\n",
       "  'Lybia': 5,\n",
       "  'Morocco': 6,\n",
       "  'Palestine': 7,\n",
       "  'SaudiArabia': 8,\n",
       "  'Syria': 9,\n",
       "  'Tunis': 10,\n",
       "  'USA': 11,\n",
       "  'lebanon': 12,\n",
       "  'venzuela': 13},\n",
       " 'Relation': {'Father': 0, 'Mum': 1},\n",
       " 'SectionID': {'A': 0, 'B': 1, 'C': 2},\n",
       " 'Semester': {'F': 0, 'S': 1},\n",
       " 'StageID': {'HighSchool': 0, 'MiddleSchool': 1, 'lowerlevel': 2},\n",
       " 'StudentAbsenceDays': {'Above-7': 0, 'Under-7': 1},\n",
       " 'Topic': {'Arabic': 0,\n",
       "  'Biology': 1,\n",
       "  'Chemistry': 2,\n",
       "  'English': 3,\n",
       "  'French': 4,\n",
       "  'Geology': 5,\n",
       "  'History': 6,\n",
       "  'IT': 7,\n",
       "  'Math': 8,\n",
       "  'Quran': 9,\n",
       "  'Science': 10,\n",
       "  'Spanish': 11},\n",
       " 'gender': {'F': 0, 'M': 1}}"
      ]
     },
     "execution_count": 7,
     "metadata": {},
     "output_type": "execute_result"
    }
   ],
   "source": [
    "dictionaries = {}\r\n",
    "for column_name in column_names:\r\n",
    "    sorted_keys = np.sort(df[column_name].unique())\r\n",
    "    dictionaries[column_name] = { key:value for value, key in enumerate(sorted_keys) }\r\n",
    "    \r\n",
    "dictionaries\r\n"
   ]
  },
  {
   "cell_type": "markdown",
   "metadata": {},
   "source": [
    "I don't like some of these. Inconsistencies happening. Let's fix them."
   ]
  },
  {
   "cell_type": "code",
   "execution_count": 8,
   "metadata": {},
   "outputs": [
    {
     "data": {
      "text/plain": [
       "{'GradeID': {'G-02': 0,\n",
       "  'G-04': 1,\n",
       "  'G-05': 2,\n",
       "  'G-06': 3,\n",
       "  'G-07': 4,\n",
       "  'G-08': 5,\n",
       "  'G-09': 6,\n",
       "  'G-10': 7,\n",
       "  'G-11': 8,\n",
       "  'G-12': 9},\n",
       " 'NationalITy': {'Egypt': 0,\n",
       "  'Iran': 1,\n",
       "  'Iraq': 2,\n",
       "  'Jordan': 3,\n",
       "  'KW': 4,\n",
       "  'Lybia': 5,\n",
       "  'Morocco': 6,\n",
       "  'Palestine': 7,\n",
       "  'SaudiArabia': 8,\n",
       "  'Syria': 9,\n",
       "  'Tunis': 10,\n",
       "  'USA': 11,\n",
       "  'lebanon': 12,\n",
       "  'venzuela': 13},\n",
       " 'ParentAnsweringSurvey': {'No': 0, 'Yes': 1},\n",
       " 'ParentschoolSatisfaction': {'Bad': 0, 'Good': 1},\n",
       " 'PlaceofBirth': {'Egypt': 0,\n",
       "  'Iran': 1,\n",
       "  'Iraq': 2,\n",
       "  'Jordan': 3,\n",
       "  'KuwaIT': 4,\n",
       "  'Lybia': 5,\n",
       "  'Morocco': 6,\n",
       "  'Palestine': 7,\n",
       "  'SaudiArabia': 8,\n",
       "  'Syria': 9,\n",
       "  'Tunis': 10,\n",
       "  'USA': 11,\n",
       "  'lebanon': 12,\n",
       "  'venzuela': 13},\n",
       " 'Relation': {'Father': 0, 'Mum': 1},\n",
       " 'SectionID': {'A': 0, 'B': 1, 'C': 2},\n",
       " 'Semester': {'F': 0, 'S': 1},\n",
       " 'StageID': {'lowerlevel': 0, 'MiddleSchool': 1, 'HighSchool': 2},\n",
       " 'StudentAbsenceDays': {'Under-7': 0, 'Above-7': 1},\n",
       " 'Topic': {'Arabic': 0,\n",
       "  'Biology': 1,\n",
       "  'Chemistry': 2,\n",
       "  'English': 3,\n",
       "  'French': 4,\n",
       "  'Geology': 5,\n",
       "  'History': 6,\n",
       "  'IT': 7,\n",
       "  'Math': 8,\n",
       "  'Quran': 9,\n",
       "  'Science': 10,\n",
       "  'Spanish': 11},\n",
       " 'gender': {'M': 0, 'F': 1}}"
      ]
     },
     "execution_count": 8,
     "metadata": {},
     "output_type": "execute_result"
    }
   ],
   "source": [
    "dictionaries['StageID'] = {'lowerlevel': 0, 'MiddleSchool': 1, 'HighSchool': 2}\r\n",
    "dictionaries['StudentAbsenceDays'] = {'Under-7': 0, 'Above-7': 1}\r\n",
    "dictionaries['gender'] = {'M': 0, 'F': 1}\r\n",
    "dictionaries"
   ]
  },
  {
   "cell_type": "markdown",
   "metadata": {},
   "source": [
    "Now let's change the names to the assigned numbers."
   ]
  },
  {
   "cell_type": "code",
   "execution_count": 9,
   "metadata": {},
   "outputs": [
    {
     "data": {
      "text/html": [
       "<div>\n",
       "<style scoped>\n",
       "    .dataframe tbody tr th:only-of-type {\n",
       "        vertical-align: middle;\n",
       "    }\n",
       "\n",
       "    .dataframe tbody tr th {\n",
       "        vertical-align: top;\n",
       "    }\n",
       "\n",
       "    .dataframe thead th {\n",
       "        text-align: right;\n",
       "    }\n",
       "</style>\n",
       "<table border=\"1\" class=\"dataframe\">\n",
       "  <thead>\n",
       "    <tr style=\"text-align: right;\">\n",
       "      <th></th>\n",
       "      <th>gender</th>\n",
       "      <th>NationalITy</th>\n",
       "      <th>PlaceofBirth</th>\n",
       "      <th>StageID</th>\n",
       "      <th>GradeID</th>\n",
       "      <th>SectionID</th>\n",
       "      <th>Topic</th>\n",
       "      <th>Semester</th>\n",
       "      <th>Relation</th>\n",
       "      <th>raisedhands</th>\n",
       "      <th>VisITedResources</th>\n",
       "      <th>AnnouncementsView</th>\n",
       "      <th>Discussion</th>\n",
       "      <th>ParentAnsweringSurvey</th>\n",
       "      <th>ParentschoolSatisfaction</th>\n",
       "      <th>StudentAbsenceDays</th>\n",
       "      <th>Class</th>\n",
       "    </tr>\n",
       "  </thead>\n",
       "  <tbody>\n",
       "    <tr>\n",
       "      <th>0</th>\n",
       "      <td>0</td>\n",
       "      <td>4</td>\n",
       "      <td>4</td>\n",
       "      <td>0</td>\n",
       "      <td>1</td>\n",
       "      <td>0</td>\n",
       "      <td>7</td>\n",
       "      <td>0</td>\n",
       "      <td>0</td>\n",
       "      <td>15</td>\n",
       "      <td>16</td>\n",
       "      <td>2</td>\n",
       "      <td>20</td>\n",
       "      <td>1</td>\n",
       "      <td>1</td>\n",
       "      <td>0</td>\n",
       "      <td>M</td>\n",
       "    </tr>\n",
       "    <tr>\n",
       "      <th>1</th>\n",
       "      <td>0</td>\n",
       "      <td>4</td>\n",
       "      <td>4</td>\n",
       "      <td>0</td>\n",
       "      <td>1</td>\n",
       "      <td>0</td>\n",
       "      <td>7</td>\n",
       "      <td>0</td>\n",
       "      <td>0</td>\n",
       "      <td>20</td>\n",
       "      <td>20</td>\n",
       "      <td>3</td>\n",
       "      <td>25</td>\n",
       "      <td>1</td>\n",
       "      <td>1</td>\n",
       "      <td>0</td>\n",
       "      <td>M</td>\n",
       "    </tr>\n",
       "    <tr>\n",
       "      <th>2</th>\n",
       "      <td>0</td>\n",
       "      <td>4</td>\n",
       "      <td>4</td>\n",
       "      <td>0</td>\n",
       "      <td>1</td>\n",
       "      <td>0</td>\n",
       "      <td>7</td>\n",
       "      <td>0</td>\n",
       "      <td>0</td>\n",
       "      <td>10</td>\n",
       "      <td>7</td>\n",
       "      <td>0</td>\n",
       "      <td>30</td>\n",
       "      <td>0</td>\n",
       "      <td>0</td>\n",
       "      <td>1</td>\n",
       "      <td>L</td>\n",
       "    </tr>\n",
       "    <tr>\n",
       "      <th>3</th>\n",
       "      <td>0</td>\n",
       "      <td>4</td>\n",
       "      <td>4</td>\n",
       "      <td>0</td>\n",
       "      <td>1</td>\n",
       "      <td>0</td>\n",
       "      <td>7</td>\n",
       "      <td>0</td>\n",
       "      <td>0</td>\n",
       "      <td>30</td>\n",
       "      <td>25</td>\n",
       "      <td>5</td>\n",
       "      <td>35</td>\n",
       "      <td>0</td>\n",
       "      <td>0</td>\n",
       "      <td>1</td>\n",
       "      <td>L</td>\n",
       "    </tr>\n",
       "    <tr>\n",
       "      <th>4</th>\n",
       "      <td>0</td>\n",
       "      <td>4</td>\n",
       "      <td>4</td>\n",
       "      <td>0</td>\n",
       "      <td>1</td>\n",
       "      <td>0</td>\n",
       "      <td>7</td>\n",
       "      <td>0</td>\n",
       "      <td>0</td>\n",
       "      <td>40</td>\n",
       "      <td>50</td>\n",
       "      <td>12</td>\n",
       "      <td>50</td>\n",
       "      <td>0</td>\n",
       "      <td>0</td>\n",
       "      <td>1</td>\n",
       "      <td>M</td>\n",
       "    </tr>\n",
       "    <tr>\n",
       "      <th>...</th>\n",
       "      <td>...</td>\n",
       "      <td>...</td>\n",
       "      <td>...</td>\n",
       "      <td>...</td>\n",
       "      <td>...</td>\n",
       "      <td>...</td>\n",
       "      <td>...</td>\n",
       "      <td>...</td>\n",
       "      <td>...</td>\n",
       "      <td>...</td>\n",
       "      <td>...</td>\n",
       "      <td>...</td>\n",
       "      <td>...</td>\n",
       "      <td>...</td>\n",
       "      <td>...</td>\n",
       "      <td>...</td>\n",
       "      <td>...</td>\n",
       "    </tr>\n",
       "    <tr>\n",
       "      <th>475</th>\n",
       "      <td>1</td>\n",
       "      <td>3</td>\n",
       "      <td>3</td>\n",
       "      <td>1</td>\n",
       "      <td>5</td>\n",
       "      <td>0</td>\n",
       "      <td>2</td>\n",
       "      <td>1</td>\n",
       "      <td>0</td>\n",
       "      <td>5</td>\n",
       "      <td>4</td>\n",
       "      <td>5</td>\n",
       "      <td>8</td>\n",
       "      <td>0</td>\n",
       "      <td>0</td>\n",
       "      <td>1</td>\n",
       "      <td>L</td>\n",
       "    </tr>\n",
       "    <tr>\n",
       "      <th>476</th>\n",
       "      <td>1</td>\n",
       "      <td>3</td>\n",
       "      <td>3</td>\n",
       "      <td>1</td>\n",
       "      <td>5</td>\n",
       "      <td>0</td>\n",
       "      <td>5</td>\n",
       "      <td>0</td>\n",
       "      <td>0</td>\n",
       "      <td>50</td>\n",
       "      <td>77</td>\n",
       "      <td>14</td>\n",
       "      <td>28</td>\n",
       "      <td>0</td>\n",
       "      <td>0</td>\n",
       "      <td>0</td>\n",
       "      <td>M</td>\n",
       "    </tr>\n",
       "    <tr>\n",
       "      <th>477</th>\n",
       "      <td>1</td>\n",
       "      <td>3</td>\n",
       "      <td>3</td>\n",
       "      <td>1</td>\n",
       "      <td>5</td>\n",
       "      <td>0</td>\n",
       "      <td>5</td>\n",
       "      <td>1</td>\n",
       "      <td>0</td>\n",
       "      <td>55</td>\n",
       "      <td>74</td>\n",
       "      <td>25</td>\n",
       "      <td>29</td>\n",
       "      <td>0</td>\n",
       "      <td>0</td>\n",
       "      <td>0</td>\n",
       "      <td>M</td>\n",
       "    </tr>\n",
       "    <tr>\n",
       "      <th>478</th>\n",
       "      <td>1</td>\n",
       "      <td>3</td>\n",
       "      <td>3</td>\n",
       "      <td>1</td>\n",
       "      <td>5</td>\n",
       "      <td>0</td>\n",
       "      <td>6</td>\n",
       "      <td>0</td>\n",
       "      <td>0</td>\n",
       "      <td>30</td>\n",
       "      <td>17</td>\n",
       "      <td>14</td>\n",
       "      <td>57</td>\n",
       "      <td>0</td>\n",
       "      <td>0</td>\n",
       "      <td>1</td>\n",
       "      <td>L</td>\n",
       "    </tr>\n",
       "    <tr>\n",
       "      <th>479</th>\n",
       "      <td>1</td>\n",
       "      <td>3</td>\n",
       "      <td>3</td>\n",
       "      <td>1</td>\n",
       "      <td>5</td>\n",
       "      <td>0</td>\n",
       "      <td>6</td>\n",
       "      <td>1</td>\n",
       "      <td>0</td>\n",
       "      <td>35</td>\n",
       "      <td>14</td>\n",
       "      <td>23</td>\n",
       "      <td>62</td>\n",
       "      <td>0</td>\n",
       "      <td>0</td>\n",
       "      <td>1</td>\n",
       "      <td>L</td>\n",
       "    </tr>\n",
       "  </tbody>\n",
       "</table>\n",
       "<p>480 rows × 17 columns</p>\n",
       "</div>"
      ],
      "text/plain": [
       "     gender  NationalITy  PlaceofBirth  StageID  GradeID  SectionID  Topic  \\\n",
       "0         0            4             4        0        1          0      7   \n",
       "1         0            4             4        0        1          0      7   \n",
       "2         0            4             4        0        1          0      7   \n",
       "3         0            4             4        0        1          0      7   \n",
       "4         0            4             4        0        1          0      7   \n",
       "..      ...          ...           ...      ...      ...        ...    ...   \n",
       "475       1            3             3        1        5          0      2   \n",
       "476       1            3             3        1        5          0      5   \n",
       "477       1            3             3        1        5          0      5   \n",
       "478       1            3             3        1        5          0      6   \n",
       "479       1            3             3        1        5          0      6   \n",
       "\n",
       "     Semester  Relation  raisedhands  VisITedResources  AnnouncementsView  \\\n",
       "0           0         0           15                16                  2   \n",
       "1           0         0           20                20                  3   \n",
       "2           0         0           10                 7                  0   \n",
       "3           0         0           30                25                  5   \n",
       "4           0         0           40                50                 12   \n",
       "..        ...       ...          ...               ...                ...   \n",
       "475         1         0            5                 4                  5   \n",
       "476         0         0           50                77                 14   \n",
       "477         1         0           55                74                 25   \n",
       "478         0         0           30                17                 14   \n",
       "479         1         0           35                14                 23   \n",
       "\n",
       "     Discussion  ParentAnsweringSurvey  ParentschoolSatisfaction  \\\n",
       "0            20                      1                         1   \n",
       "1            25                      1                         1   \n",
       "2            30                      0                         0   \n",
       "3            35                      0                         0   \n",
       "4            50                      0                         0   \n",
       "..          ...                    ...                       ...   \n",
       "475           8                      0                         0   \n",
       "476          28                      0                         0   \n",
       "477          29                      0                         0   \n",
       "478          57                      0                         0   \n",
       "479          62                      0                         0   \n",
       "\n",
       "     StudentAbsenceDays Class  \n",
       "0                     0     M  \n",
       "1                     0     M  \n",
       "2                     1     L  \n",
       "3                     1     L  \n",
       "4                     1     M  \n",
       "..                  ...   ...  \n",
       "475                   1     L  \n",
       "476                   0     M  \n",
       "477                   0     M  \n",
       "478                   1     L  \n",
       "479                   1     L  \n",
       "\n",
       "[480 rows x 17 columns]"
      ]
     },
     "execution_count": 9,
     "metadata": {},
     "output_type": "execute_result"
    }
   ],
   "source": [
    "df_numerical = df.copy()\r\n",
    "\r\n",
    "for column_name in column_names:\r\n",
    "    df_numerical[column_name].replace(dictionaries[column_name], inplace=True)\r\n",
    "\r\n",
    "df_numerical"
   ]
  },
  {
   "cell_type": "code",
   "execution_count": 10,
   "metadata": {},
   "outputs": [
    {
     "data": {
      "text/plain": [
       "gender                         0.232146\n",
       "NationalITy                    6.097269\n",
       "PlaceofBirth                   6.908138\n",
       "StageID                        0.364492\n",
       "GradeID                        6.072612\n",
       "SectionID                      0.375048\n",
       "Topic                         11.481172\n",
       "Semester                       0.250413\n",
       "Relation                       0.242480\n",
       "raisedhands                  947.360543\n",
       "VisITedResources            1094.286843\n",
       "AnnouncementsView            708.158312\n",
       "Discussion                   763.844398\n",
       "ParentAnsweringSurvey          0.246608\n",
       "ParentschoolSatisfaction       0.238761\n",
       "StudentAbsenceDays             0.240079\n",
       "dtype: float64"
      ]
     },
     "execution_count": 10,
     "metadata": {},
     "output_type": "execute_result"
    }
   ],
   "source": [
    "df_numerical.var()\r\n"
   ]
  },
  {
   "cell_type": "markdown",
   "metadata": {},
   "source": [
    "## Step 4:\n",
    "### Find out for each variable their skewness and plot 5 of them.\n",
    "\n",
    "Understanding the biases of data can always give us some key information\n"
   ]
  },
  {
   "cell_type": "code",
   "execution_count": 11,
   "metadata": {},
   "outputs": [
    {
     "data": {
      "text/plain": [
       "gender                      0.564462\n",
       "NationalITy                 1.715484\n",
       "PlaceofBirth                1.720447\n",
       "StageID                     0.333366\n",
       "GradeID                     0.263863\n",
       "SectionID                   0.925118\n",
       "Topic                      -0.004031\n",
       "Semester                    0.041806\n",
       "Relation                    0.365370\n",
       "raisedhands                 0.026962\n",
       "VisITedResources           -0.342441\n",
       "AnnouncementsView           0.399243\n",
       "Discussion                  0.362594\n",
       "ParentAnsweringSurvey      -0.252767\n",
       "ParentschoolSatisfaction   -0.445270\n",
       "StudentAbsenceDays          0.418428\n",
       "dtype: float64"
      ]
     },
     "execution_count": 11,
     "metadata": {},
     "output_type": "execute_result"
    }
   ],
   "source": [
    "# Select 5 columns and find out their bias\r\n",
    "df_numerical.skew()"
   ]
  },
  {
   "cell_type": "code",
   "execution_count": 12,
   "metadata": {},
   "outputs": [],
   "source": [
    "import seaborn as sns"
   ]
  },
  {
   "cell_type": "code",
   "execution_count": 13,
   "metadata": {},
   "outputs": [
    {
     "data": {
      "text/plain": [
       "<AxesSubplot:xlabel='VisITedResources', ylabel='Density'>"
      ]
     },
     "execution_count": 13,
     "metadata": {},
     "output_type": "execute_result"
    },
    {
     "data": {
      "image/png": "[encoded data removed]",
      "text/plain": [
       "<Figure size 432x288 with 1 Axes>"
      ]
     },
     "metadata": {
      "needs_background": "light"
     },
     "output_type": "display_data"
    }
   ],
   "source": [
    "sns.distplot(df.VisITedResources)\r\n"
   ]
  },
  {
   "cell_type": "code",
   "execution_count": 14,
   "metadata": {},
   "outputs": [
    {
     "data": {
      "text/plain": [
       "<AxesSubplot:xlabel='VisITedResources', ylabel='Density'>"
      ]
     },
     "execution_count": 14,
     "metadata": {},
     "output_type": "execute_result"
    },
    {
     "data": {
      "image/png": "[encoded data removed]",
      "text/plain": [
       "<Figure size 432x288 with 1 Axes>"
      ]
     },
     "metadata": {
      "needs_background": "light"
     },
     "output_type": "display_data"
    }
   ],
   "source": [
    "sns.distplot(df.VisITedResources)"
   ]
  },
  {
   "cell_type": "code",
   "execution_count": 15,
   "metadata": {},
   "outputs": [
    {
     "data": {
      "text/plain": [
       "<AxesSubplot:xlabel='AnnouncementsView', ylabel='Density'>"
      ]
     },
     "execution_count": 15,
     "metadata": {},
     "output_type": "execute_result"
    },
    {
     "data": {
      "image/png": "[encoded data removed]",
      "text/plain": [
       "<Figure size 432x288 with 1 Axes>"
      ]
     },
     "metadata": {
      "needs_background": "light"
     },
     "output_type": "display_data"
    }
   ],
   "source": [
    "sns.distplot(df.AnnouncementsView)"
   ]
  },
  {
   "cell_type": "code",
   "execution_count": 16,
   "metadata": {},
   "outputs": [
    {
     "data": {
      "text/plain": [
       "<AxesSubplot:xlabel='Discussion', ylabel='Density'>"
      ]
     },
     "execution_count": 16,
     "metadata": {},
     "output_type": "execute_result"
    },
    {
     "data": {
      "image/png": "[encoded data removed]",
      "text/plain": [
       "<Figure size 432x288 with 1 Axes>"
      ]
     },
     "metadata": {
      "needs_background": "light"
     },
     "output_type": "display_data"
    }
   ],
   "source": [
    "sns.distplot(df.Discussion)"
   ]
  },
  {
   "cell_type": "code",
   "execution_count": 17,
   "metadata": {},
   "outputs": [
    {
     "data": {
      "text/plain": [
       "[Text(0, 0, 'IT'),\n",
       " Text(1, 0, 'Math'),\n",
       " Text(2, 0, 'Arabic'),\n",
       " Text(3, 0, 'Science'),\n",
       " Text(4, 0, 'English'),\n",
       " Text(5, 0, 'Quran'),\n",
       " Text(6, 0, 'Spanish'),\n",
       " Text(7, 0, 'French'),\n",
       " Text(8, 0, 'History'),\n",
       " Text(9, 0, 'Biology'),\n",
       " Text(10, 0, 'Chemistry'),\n",
       " Text(11, 0, 'Geology')]"
      ]
     },
     "execution_count": 17,
     "metadata": {},
     "output_type": "execute_result"
    },
    {
     "data": {
      "image/png": "[encoded data removed]",
      "text/plain": [
       "<Figure size 432x288 with 1 Axes>"
      ]
     },
     "metadata": {
      "needs_background": "light"
     },
     "output_type": "display_data"
    }
   ],
   "source": [
    "topics = sns.histplot(df.Topic)\r\n",
    "topics.set_xticklabels(df.Topic.unique(), rotation=45)\r\n"
   ]
  },
  {
   "cell_type": "markdown",
   "metadata": {},
   "source": [
    "## Step 5:\n",
    "### Find out for all the variables which is their correlation with the class\n",
    "\n",
    "Sometimes we need to reduce the ammount of features we feed the model in order to make it more lighweight, so we either select the best ones or take out the most useless ones."
   ]
  },
  {
   "cell_type": "code",
   "execution_count": 18,
   "metadata": {},
   "outputs": [
    {
     "data": {
      "text/html": [
       "<div>\n",
       "<style scoped>\n",
       "    .dataframe tbody tr th:only-of-type {\n",
       "        vertical-align: middle;\n",
       "    }\n",
       "\n",
       "    .dataframe tbody tr th {\n",
       "        vertical-align: top;\n",
       "    }\n",
       "\n",
       "    .dataframe thead th {\n",
       "        text-align: right;\n",
       "    }\n",
       "</style>\n",
       "<table border=\"1\" class=\"dataframe\">\n",
       "  <thead>\n",
       "    <tr style=\"text-align: right;\">\n",
       "      <th></th>\n",
       "      <th>gender</th>\n",
       "      <th>NationalITy</th>\n",
       "      <th>PlaceofBirth</th>\n",
       "      <th>StageID</th>\n",
       "      <th>GradeID</th>\n",
       "      <th>SectionID</th>\n",
       "      <th>Topic</th>\n",
       "      <th>Semester</th>\n",
       "      <th>Relation</th>\n",
       "      <th>raisedhands</th>\n",
       "      <th>VisITedResources</th>\n",
       "      <th>AnnouncementsView</th>\n",
       "      <th>Discussion</th>\n",
       "      <th>ParentAnsweringSurvey</th>\n",
       "      <th>ParentschoolSatisfaction</th>\n",
       "      <th>StudentAbsenceDays</th>\n",
       "    </tr>\n",
       "  </thead>\n",
       "  <tbody>\n",
       "    <tr>\n",
       "      <th>gender</th>\n",
       "      <td>NaN</td>\n",
       "      <td>0.023653</td>\n",
       "      <td>0.064895</td>\n",
       "      <td>-0.017793</td>\n",
       "      <td>-0.016869</td>\n",
       "      <td>-0.054907</td>\n",
       "      <td>-0.031769</td>\n",
       "      <td>-0.049156</td>\n",
       "      <td>0.195142</td>\n",
       "      <td>0.149978</td>\n",
       "      <td>0.210932</td>\n",
       "      <td>0.052139</td>\n",
       "      <td>0.124703</td>\n",
       "      <td>0.022359</td>\n",
       "      <td>0.093478</td>\n",
       "      <td>-0.209011</td>\n",
       "    </tr>\n",
       "    <tr>\n",
       "      <th>NationalITy</th>\n",
       "      <td>0.023653</td>\n",
       "      <td>NaN</td>\n",
       "      <td>0.786798</td>\n",
       "      <td>0.139212</td>\n",
       "      <td>0.124049</td>\n",
       "      <td>0.069712</td>\n",
       "      <td>0.076718</td>\n",
       "      <td>0.070503</td>\n",
       "      <td>0.003212</td>\n",
       "      <td>0.111533</td>\n",
       "      <td>0.028793</td>\n",
       "      <td>0.062827</td>\n",
       "      <td>-0.063386</td>\n",
       "      <td>0.079380</td>\n",
       "      <td>-0.001701</td>\n",
       "      <td>-0.157116</td>\n",
       "    </tr>\n",
       "    <tr>\n",
       "      <th>PlaceofBirth</th>\n",
       "      <td>0.064895</td>\n",
       "      <td>0.786798</td>\n",
       "      <td>NaN</td>\n",
       "      <td>0.176368</td>\n",
       "      <td>0.174026</td>\n",
       "      <td>0.085178</td>\n",
       "      <td>0.143477</td>\n",
       "      <td>0.078554</td>\n",
       "      <td>0.031632</td>\n",
       "      <td>0.077986</td>\n",
       "      <td>0.033798</td>\n",
       "      <td>0.078636</td>\n",
       "      <td>0.006262</td>\n",
       "      <td>0.040887</td>\n",
       "      <td>-0.094594</td>\n",
       "      <td>-0.134554</td>\n",
       "    </tr>\n",
       "    <tr>\n",
       "      <th>StageID</th>\n",
       "      <td>-0.017793</td>\n",
       "      <td>0.139212</td>\n",
       "      <td>0.176368</td>\n",
       "      <td>NaN</td>\n",
       "      <td>0.961835</td>\n",
       "      <td>-0.296416</td>\n",
       "      <td>0.047493</td>\n",
       "      <td>0.029512</td>\n",
       "      <td>-0.034205</td>\n",
       "      <td>0.172751</td>\n",
       "      <td>0.068621</td>\n",
       "      <td>0.163666</td>\n",
       "      <td>0.161406</td>\n",
       "      <td>0.114025</td>\n",
       "      <td>-0.014272</td>\n",
       "      <td>-0.112536</td>\n",
       "    </tr>\n",
       "    <tr>\n",
       "      <th>GradeID</th>\n",
       "      <td>-0.016869</td>\n",
       "      <td>0.124049</td>\n",
       "      <td>0.174026</td>\n",
       "      <td>0.961835</td>\n",
       "      <td>NaN</td>\n",
       "      <td>-0.303949</td>\n",
       "      <td>0.061389</td>\n",
       "      <td>0.066079</td>\n",
       "      <td>-0.033602</td>\n",
       "      <td>0.182621</td>\n",
       "      <td>0.078262</td>\n",
       "      <td>0.183033</td>\n",
       "      <td>0.168462</td>\n",
       "      <td>0.118246</td>\n",
       "      <td>-0.018421</td>\n",
       "      <td>-0.088342</td>\n",
       "    </tr>\n",
       "    <tr>\n",
       "      <th>SectionID</th>\n",
       "      <td>-0.054907</td>\n",
       "      <td>0.069712</td>\n",
       "      <td>0.085178</td>\n",
       "      <td>-0.296416</td>\n",
       "      <td>-0.303949</td>\n",
       "      <td>NaN</td>\n",
       "      <td>0.267445</td>\n",
       "      <td>0.046763</td>\n",
       "      <td>0.005783</td>\n",
       "      <td>-0.143862</td>\n",
       "      <td>-0.080909</td>\n",
       "      <td>-0.144955</td>\n",
       "      <td>-0.102538</td>\n",
       "      <td>-0.018449</td>\n",
       "      <td>-0.070405</td>\n",
       "      <td>-0.037062</td>\n",
       "    </tr>\n",
       "    <tr>\n",
       "      <th>Topic</th>\n",
       "      <td>-0.031769</td>\n",
       "      <td>0.076718</td>\n",
       "      <td>0.143477</td>\n",
       "      <td>0.047493</td>\n",
       "      <td>0.061389</td>\n",
       "      <td>0.267445</td>\n",
       "      <td>NaN</td>\n",
       "      <td>-0.035975</td>\n",
       "      <td>-0.139487</td>\n",
       "      <td>-0.080418</td>\n",
       "      <td>-0.118144</td>\n",
       "      <td>-0.063856</td>\n",
       "      <td>0.054064</td>\n",
       "      <td>0.004730</td>\n",
       "      <td>-0.064087</td>\n",
       "      <td>0.036537</td>\n",
       "    </tr>\n",
       "    <tr>\n",
       "      <th>Semester</th>\n",
       "      <td>-0.049156</td>\n",
       "      <td>0.070503</td>\n",
       "      <td>0.078554</td>\n",
       "      <td>0.029512</td>\n",
       "      <td>0.066079</td>\n",
       "      <td>0.046763</td>\n",
       "      <td>-0.035975</td>\n",
       "      <td>NaN</td>\n",
       "      <td>0.148705</td>\n",
       "      <td>0.178358</td>\n",
       "      <td>0.173219</td>\n",
       "      <td>0.287066</td>\n",
       "      <td>0.019083</td>\n",
       "      <td>0.023628</td>\n",
       "      <td>-0.025258</td>\n",
       "      <td>-0.072462</td>\n",
       "    </tr>\n",
       "    <tr>\n",
       "      <th>Relation</th>\n",
       "      <td>0.195142</td>\n",
       "      <td>0.003212</td>\n",
       "      <td>0.031632</td>\n",
       "      <td>-0.034205</td>\n",
       "      <td>-0.033602</td>\n",
       "      <td>0.005783</td>\n",
       "      <td>-0.139487</td>\n",
       "      <td>0.148705</td>\n",
       "      <td>NaN</td>\n",
       "      <td>0.364237</td>\n",
       "      <td>0.360240</td>\n",
       "      <td>0.339505</td>\n",
       "      <td>0.026720</td>\n",
       "      <td>0.163811</td>\n",
       "      <td>0.287698</td>\n",
       "      <td>-0.219687</td>\n",
       "    </tr>\n",
       "    <tr>\n",
       "      <th>raisedhands</th>\n",
       "      <td>0.149978</td>\n",
       "      <td>0.111533</td>\n",
       "      <td>0.077986</td>\n",
       "      <td>0.172751</td>\n",
       "      <td>0.182621</td>\n",
       "      <td>-0.143862</td>\n",
       "      <td>-0.080418</td>\n",
       "      <td>0.178358</td>\n",
       "      <td>0.364237</td>\n",
       "      <td>NaN</td>\n",
       "      <td>0.691572</td>\n",
       "      <td>0.643918</td>\n",
       "      <td>0.339386</td>\n",
       "      <td>0.316570</td>\n",
       "      <td>0.297015</td>\n",
       "      <td>-0.463882</td>\n",
       "    </tr>\n",
       "    <tr>\n",
       "      <th>VisITedResources</th>\n",
       "      <td>0.210932</td>\n",
       "      <td>0.028793</td>\n",
       "      <td>0.033798</td>\n",
       "      <td>0.068621</td>\n",
       "      <td>0.078262</td>\n",
       "      <td>-0.080909</td>\n",
       "      <td>-0.118144</td>\n",
       "      <td>0.173219</td>\n",
       "      <td>0.360240</td>\n",
       "      <td>0.691572</td>\n",
       "      <td>NaN</td>\n",
       "      <td>0.594500</td>\n",
       "      <td>0.243292</td>\n",
       "      <td>0.382472</td>\n",
       "      <td>0.363835</td>\n",
       "      <td>-0.499030</td>\n",
       "    </tr>\n",
       "    <tr>\n",
       "      <th>AnnouncementsView</th>\n",
       "      <td>0.052139</td>\n",
       "      <td>0.062827</td>\n",
       "      <td>0.078636</td>\n",
       "      <td>0.163666</td>\n",
       "      <td>0.183033</td>\n",
       "      <td>-0.144955</td>\n",
       "      <td>-0.063856</td>\n",
       "      <td>0.287066</td>\n",
       "      <td>0.339505</td>\n",
       "      <td>0.643918</td>\n",
       "      <td>0.594500</td>\n",
       "      <td>NaN</td>\n",
       "      <td>0.417290</td>\n",
       "      <td>0.396357</td>\n",
       "      <td>0.298744</td>\n",
       "      <td>-0.312134</td>\n",
       "    </tr>\n",
       "    <tr>\n",
       "      <th>Discussion</th>\n",
       "      <td>0.124703</td>\n",
       "      <td>-0.063386</td>\n",
       "      <td>0.006262</td>\n",
       "      <td>0.161406</td>\n",
       "      <td>0.168462</td>\n",
       "      <td>-0.102538</td>\n",
       "      <td>0.054064</td>\n",
       "      <td>0.019083</td>\n",
       "      <td>0.026720</td>\n",
       "      <td>0.339386</td>\n",
       "      <td>0.243292</td>\n",
       "      <td>0.417290</td>\n",
       "      <td>NaN</td>\n",
       "      <td>0.232197</td>\n",
       "      <td>0.061104</td>\n",
       "      <td>-0.218778</td>\n",
       "    </tr>\n",
       "    <tr>\n",
       "      <th>ParentAnsweringSurvey</th>\n",
       "      <td>0.022359</td>\n",
       "      <td>0.079380</td>\n",
       "      <td>0.040887</td>\n",
       "      <td>0.114025</td>\n",
       "      <td>0.118246</td>\n",
       "      <td>-0.018449</td>\n",
       "      <td>0.004730</td>\n",
       "      <td>0.023628</td>\n",
       "      <td>0.163811</td>\n",
       "      <td>0.316570</td>\n",
       "      <td>0.382472</td>\n",
       "      <td>0.396357</td>\n",
       "      <td>0.232197</td>\n",
       "      <td>NaN</td>\n",
       "      <td>0.539875</td>\n",
       "      <td>-0.261152</td>\n",
       "    </tr>\n",
       "    <tr>\n",
       "      <th>ParentschoolSatisfaction</th>\n",
       "      <td>0.093478</td>\n",
       "      <td>-0.001701</td>\n",
       "      <td>-0.094594</td>\n",
       "      <td>-0.014272</td>\n",
       "      <td>-0.018421</td>\n",
       "      <td>-0.070405</td>\n",
       "      <td>-0.064087</td>\n",
       "      <td>-0.025258</td>\n",
       "      <td>0.287698</td>\n",
       "      <td>0.297015</td>\n",
       "      <td>0.363835</td>\n",
       "      <td>0.298744</td>\n",
       "      <td>0.061104</td>\n",
       "      <td>0.539875</td>\n",
       "      <td>NaN</td>\n",
       "      <td>-0.228385</td>\n",
       "    </tr>\n",
       "    <tr>\n",
       "      <th>StudentAbsenceDays</th>\n",
       "      <td>-0.209011</td>\n",
       "      <td>-0.157116</td>\n",
       "      <td>-0.134554</td>\n",
       "      <td>-0.112536</td>\n",
       "      <td>-0.088342</td>\n",
       "      <td>-0.037062</td>\n",
       "      <td>0.036537</td>\n",
       "      <td>-0.072462</td>\n",
       "      <td>-0.219687</td>\n",
       "      <td>-0.463882</td>\n",
       "      <td>-0.499030</td>\n",
       "      <td>-0.312134</td>\n",
       "      <td>-0.218778</td>\n",
       "      <td>-0.261152</td>\n",
       "      <td>-0.228385</td>\n",
       "      <td>NaN</td>\n",
       "    </tr>\n",
       "  </tbody>\n",
       "</table>\n",
       "</div>"
      ],
      "text/plain": [
       "                            gender  NationalITy  PlaceofBirth   StageID  \\\n",
       "gender                         NaN     0.023653      0.064895 -0.017793   \n",
       "NationalITy               0.023653          NaN      0.786798  0.139212   \n",
       "PlaceofBirth              0.064895     0.786798           NaN  0.176368   \n",
       "StageID                  -0.017793     0.139212      0.176368       NaN   \n",
       "GradeID                  -0.016869     0.124049      0.174026  0.961835   \n",
       "SectionID                -0.054907     0.069712      0.085178 -0.296416   \n",
       "Topic                    -0.031769     0.076718      0.143477  0.047493   \n",
       "Semester                 -0.049156     0.070503      0.078554  0.029512   \n",
       "Relation                  0.195142     0.003212      0.031632 -0.034205   \n",
       "raisedhands               0.149978     0.111533      0.077986  0.172751   \n",
       "VisITedResources          0.210932     0.028793      0.033798  0.068621   \n",
       "AnnouncementsView         0.052139     0.062827      0.078636  0.163666   \n",
       "Discussion                0.124703    -0.063386      0.006262  0.161406   \n",
       "ParentAnsweringSurvey     0.022359     0.079380      0.040887  0.114025   \n",
       "ParentschoolSatisfaction  0.093478    -0.001701     -0.094594 -0.014272   \n",
       "StudentAbsenceDays       -0.209011    -0.157116     -0.134554 -0.112536   \n",
       "\n",
       "                           GradeID  SectionID     Topic  Semester  Relation  \\\n",
       "gender                   -0.016869  -0.054907 -0.031769 -0.049156  0.195142   \n",
       "NationalITy               0.124049   0.069712  0.076718  0.070503  0.003212   \n",
       "PlaceofBirth              0.174026   0.085178  0.143477  0.078554  0.031632   \n",
       "StageID                   0.961835  -0.296416  0.047493  0.029512 -0.034205   \n",
       "GradeID                        NaN  -0.303949  0.061389  0.066079 -0.033602   \n",
       "SectionID                -0.303949        NaN  0.267445  0.046763  0.005783   \n",
       "Topic                     0.061389   0.267445       NaN -0.035975 -0.139487   \n",
       "Semester                  0.066079   0.046763 -0.035975       NaN  0.148705   \n",
       "Relation                 -0.033602   0.005783 -0.139487  0.148705       NaN   \n",
       "raisedhands               0.182621  -0.143862 -0.080418  0.178358  0.364237   \n",
       "VisITedResources          0.078262  -0.080909 -0.118144  0.173219  0.360240   \n",
       "AnnouncementsView         0.183033  -0.144955 -0.063856  0.287066  0.339505   \n",
       "Discussion                0.168462  -0.102538  0.054064  0.019083  0.026720   \n",
       "ParentAnsweringSurvey     0.118246  -0.018449  0.004730  0.023628  0.163811   \n",
       "ParentschoolSatisfaction -0.018421  -0.070405 -0.064087 -0.025258  0.287698   \n",
       "StudentAbsenceDays       -0.088342  -0.037062  0.036537 -0.072462 -0.219687   \n",
       "\n",
       "                          raisedhands  VisITedResources  AnnouncementsView  \\\n",
       "gender                       0.149978          0.210932           0.052139   \n",
       "NationalITy                  0.111533          0.028793           0.062827   \n",
       "PlaceofBirth                 0.077986          0.033798           0.078636   \n",
       "StageID                      0.172751          0.068621           0.163666   \n",
       "GradeID                      0.182621          0.078262           0.183033   \n",
       "SectionID                   -0.143862         -0.080909          -0.144955   \n",
       "Topic                       -0.080418         -0.118144          -0.063856   \n",
       "Semester                     0.178358          0.173219           0.287066   \n",
       "Relation                     0.364237          0.360240           0.339505   \n",
       "raisedhands                       NaN          0.691572           0.643918   \n",
       "VisITedResources             0.691572               NaN           0.594500   \n",
       "AnnouncementsView            0.643918          0.594500                NaN   \n",
       "Discussion                   0.339386          0.243292           0.417290   \n",
       "ParentAnsweringSurvey        0.316570          0.382472           0.396357   \n",
       "ParentschoolSatisfaction     0.297015          0.363835           0.298744   \n",
       "StudentAbsenceDays          -0.463882         -0.499030          -0.312134   \n",
       "\n",
       "                          Discussion  ParentAnsweringSurvey  \\\n",
       "gender                      0.124703               0.022359   \n",
       "NationalITy                -0.063386               0.079380   \n",
       "PlaceofBirth                0.006262               0.040887   \n",
       "StageID                     0.161406               0.114025   \n",
       "GradeID                     0.168462               0.118246   \n",
       "SectionID                  -0.102538              -0.018449   \n",
       "Topic                       0.054064               0.004730   \n",
       "Semester                    0.019083               0.023628   \n",
       "Relation                    0.026720               0.163811   \n",
       "raisedhands                 0.339386               0.316570   \n",
       "VisITedResources            0.243292               0.382472   \n",
       "AnnouncementsView           0.417290               0.396357   \n",
       "Discussion                       NaN               0.232197   \n",
       "ParentAnsweringSurvey       0.232197                    NaN   \n",
       "ParentschoolSatisfaction    0.061104               0.539875   \n",
       "StudentAbsenceDays         -0.218778              -0.261152   \n",
       "\n",
       "                          ParentschoolSatisfaction  StudentAbsenceDays  \n",
       "gender                                    0.093478           -0.209011  \n",
       "NationalITy                              -0.001701           -0.157116  \n",
       "PlaceofBirth                             -0.094594           -0.134554  \n",
       "StageID                                  -0.014272           -0.112536  \n",
       "GradeID                                  -0.018421           -0.088342  \n",
       "SectionID                                -0.070405           -0.037062  \n",
       "Topic                                    -0.064087            0.036537  \n",
       "Semester                                 -0.025258           -0.072462  \n",
       "Relation                                  0.287698           -0.219687  \n",
       "raisedhands                               0.297015           -0.463882  \n",
       "VisITedResources                          0.363835           -0.499030  \n",
       "AnnouncementsView                         0.298744           -0.312134  \n",
       "Discussion                                0.061104           -0.218778  \n",
       "ParentAnsweringSurvey                     0.539875           -0.261152  \n",
       "ParentschoolSatisfaction                       NaN           -0.228385  \n",
       "StudentAbsenceDays                       -0.228385                 NaN  "
      ]
     },
     "execution_count": 18,
     "metadata": {},
     "output_type": "execute_result"
    }
   ],
   "source": [
    "# Select the top 4 most correlated and put them in a different dataset\r\n",
    "df_numerical.corr().replace(1., np.nan)\r\n"
   ]
  },
  {
   "cell_type": "code",
   "execution_count": 19,
   "metadata": {},
   "outputs": [],
   "source": [
    "# Select the top 4 least correlated and create a new dataset without them\r\n",
    "\r\n",
    "# nooo, im too tired. enough. :]\r\n",
    "\r\n",
    "# BUT BUT!!!! There is more below! About that probability! And it's cool, I promiss! :]"
   ]
  },
  {
   "cell_type": "markdown",
   "metadata": {},
   "source": [
    "## Step 6:\n",
    "### Visualize the correlation between the previously selected 4 most correlated variables with the class\n",
    "\n",
    "Lets see if those are correlated too.\n"
   ]
  },
  {
   "cell_type": "code",
   "execution_count": 20,
   "metadata": {},
   "outputs": [],
   "source": [
    "# Plot the correlation among themself for the previous 4 variables."
   ]
  },
  {
   "cell_type": "markdown",
   "metadata": {},
   "source": [
    "## Step 7:\n",
    "### For the previoys 4 variables plot them AGAINST the class\n"
   ]
  },
  {
   "cell_type": "code",
   "execution_count": 21,
   "metadata": {},
   "outputs": [],
   "source": [
    "# make 4 plot where you plot each of the variables with the class"
   ]
  },
  {
   "cell_type": "markdown",
   "metadata": {},
   "source": [
    "## Step 8:\n",
    "### Probability time, if I know a student had less than 7 absent days what is the probability of him being classified as L"
   ]
  },
  {
   "cell_type": "markdown",
   "metadata": {},
   "source": [
    "First let's create a function that will format the probability to string in a nice way."
   ]
  },
  {
   "cell_type": "code",
   "execution_count": 30,
   "metadata": {},
   "outputs": [],
   "source": [
    "def to_str(probability):\r\n",
    "    return str(round(probability*100,2))+'%'"
   ]
  },
  {
   "cell_type": "markdown",
   "metadata": {},
   "source": [
    "Then - we go the default way we used to deal with panda dataframes."
   ]
  },
  {
   "cell_type": "code",
   "execution_count": 31,
   "metadata": {},
   "outputs": [
    {
     "name": "stdout",
     "output_type": "stream",
     "text": [
      "1.09 ms ± 26.2 µs per loop (mean ± std. dev. of 7 runs, 1000 loops each)\n"
     ]
    }
   ],
   "source": [
    "# %%timeit\r\n",
    "\r\n",
    "low_absence_df = df[df.StudentAbsenceDays==\"Under-7\"]\r\n",
    "low_absence_and_class_L_df = low_absence_df[low_absence_df.Class==\"L\"]\r\n",
    "\r\n",
    "p1 = low_absence_and_class_L_df.shape[0] / low_absence_df.shape[0]"
   ]
  },
  {
   "cell_type": "markdown",
   "metadata": {},
   "source": [
    "We can see it's not awesomely fast. And also we keep creating a lot of dataframes in the process of just finding some lengths..."
   ]
  },
  {
   "cell_type": "code",
   "execution_count": 24,
   "metadata": {},
   "outputs": [
    {
     "data": {
      "text/plain": [
       "'3.81%'"
      ]
     },
     "execution_count": 24,
     "metadata": {},
     "output_type": "execute_result"
    }
   ],
   "source": [
    "to_str(p1)"
   ]
  },
  {
   "cell_type": "markdown",
   "metadata": {},
   "source": [
    "Let's try comething faster."
   ]
  },
  {
   "cell_type": "markdown",
   "metadata": {},
   "source": [
    "Since we were indexing by boolean lists anyway, we don't have to pull data from the dataframe with these lists. We can do the calculations directly on them.\r\n",
    "\r\n",
    "Also - with numpy we can perform nice sumation of boolean values and also multiply 2 arrays to get element by element boolean \"and\" operation."
   ]
  },
  {
   "cell_type": "code",
   "execution_count": 32,
   "metadata": {},
   "outputs": [
    {
     "name": "stdout",
     "output_type": "stream",
     "text": [
      "426 µs ± 31 µs per loop (mean ± std. dev. of 7 runs, 1000 loops each)\n"
     ]
    }
   ],
   "source": [
    "# %%timeit\r\n",
    "\r\n",
    "low_absence = np.array([df.StudentAbsenceDays==\"Under-7\"])\r\n",
    "class_L = np.array([df.Class==\"L\"])\r\n",
    "low_absence_and_class_L = low_absence * class_L\r\n",
    "\r\n",
    "p1 = low_absence_and_class_L.sum() / low_absence.sum()"
   ]
  },
  {
   "cell_type": "markdown",
   "metadata": {},
   "source": [
    "It's pretty fuckin quick, right? And also it takes very very less RAM space, since we just operate on bool arrays... NOT WHOLE DATAFRAMES! :)"
   ]
  },
  {
   "cell_type": "code",
   "execution_count": 26,
   "metadata": {},
   "outputs": [
    {
     "data": {
      "text/plain": [
       "'3.81%'"
      ]
     },
     "execution_count": 26,
     "metadata": {},
     "output_type": "execute_result"
    }
   ],
   "source": [
    "to_str(p1)"
   ]
  },
  {
   "cell_type": "markdown",
   "metadata": {},
   "source": [
    "## Step 8:\n",
    "### Probability time, if I know a student had less than 7 absent days what is the probability of him being classified as m or higher, using the previous calculation"
   ]
  },
  {
   "cell_type": "markdown",
   "metadata": {},
   "source": [
    "Since it's basicaly the rest of the situations..."
   ]
  },
  {
   "cell_type": "code",
   "execution_count": 27,
   "metadata": {},
   "outputs": [
    {
     "data": {
      "text/plain": [
       "'96.19%'"
      ]
     },
     "execution_count": 27,
     "metadata": {},
     "output_type": "execute_result"
    }
   ],
   "source": [
    "p2 = 1.0 - p1\r\n",
    "to_str(p2)"
   ]
  },
  {
   "cell_type": "markdown",
   "metadata": {},
   "source": [
    "## Step 9:\n",
    "### Probability time, knowing a student was classified as H, what is the probability of him having raised the hand more than 10 times"
   ]
  },
  {
   "cell_type": "code",
   "execution_count": 28,
   "metadata": {},
   "outputs": [
    {
     "data": {
      "text/plain": [
       "'35.34%'"
      ]
     },
     "execution_count": 28,
     "metadata": {},
     "output_type": "execute_result"
    }
   ],
   "source": [
    "# Bayes time\r\n",
    "\r\n",
    "# I'm not sure if Bayes is necesary here\r\n",
    "\r\n",
    "class_H = np.array([df.Class==\"H\"])\r\n",
    "# let's consider \"active student\" one that has raised hand over 10 times\r\n",
    "active = np.array([df.raisedhands > 10])\r\n",
    "\r\n",
    "# class_H and active\r\n",
    "class_H_and_active = class_H * active\r\n",
    "\r\n",
    "p3 = class_H_and_active.sum() / active.sum()\r\n",
    "\r\n",
    "to_str(p3)"
   ]
  },
  {
   "cell_type": "markdown",
   "metadata": {},
   "source": [
    "## Step 10:\n",
    "### Free time, if I was the principal of the school what plots and probabilities would you show me to help me accept only M and H students."
   ]
  },
  {
   "cell_type": "code",
   "execution_count": 29,
   "metadata": {},
   "outputs": [],
   "source": [
    "# I would love to but my ADHD fucked with me for the whole day and I started working ~14:30 and then had problems focusing... :|"
   ]
  }
 ],
 "metadata": {
  "interpreter": {
   "hash": "0b3835b907b6cc7d301aec5540e8a0fbdbe5019d215ce85ebb6eb02d9dcf944e"
  },
  "kernelspec": {
   "display_name": "Python 3.8.10 64-bit ('numba': conda)",
   "name": "python3"
  },
  "language_info": {
   "codemirror_mode": {
    "name": "ipython",
    "version": 3
   },
   "file_extension": ".py",
   "mimetype": "text/x-python",
   "name": "python",
   "nbconvert_exporter": "python",
   "pygments_lexer": "ipython3",
   "version": "3.8.10"
  },
  "varInspector": {
   "cols": {
    "lenName": 16,
    "lenType": 16,
    "lenVar": 40
   },
   "kernels_config": {
    "python": {
     "delete_cmd_postfix": "",
     "delete_cmd_prefix": "del ",
     "library": "var_list.py",
     "varRefreshCmd": "print(var_dic_list())"
    },
    "r": {
     "delete_cmd_postfix": ") ",
     "delete_cmd_prefix": "rm(",
     "library": "var_list.r",
     "varRefreshCmd": "cat(var_dic_list()) "
    }
   },
   "types_to_exclude": [
    "module",
    "function",
    "builtin_function_or_method",
    "instance",
    "_Feature"
   ],
   "window_display": false
  }
 },
 "nbformat": 4,
 "nbformat_minor": 2
}