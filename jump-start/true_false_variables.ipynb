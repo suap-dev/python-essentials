{
 "metadata": {
  "language_info": {
   "codemirror_mode": {
    "name": "ipython",
    "version": 3
   },
   "file_extension": ".py",
   "mimetype": "text/x-python",
   "name": "python",
   "nbconvert_exporter": "python",
   "pygments_lexer": "ipython3",
   "version": "3.9.5"
  },
  "orig_nbformat": 4,
  "kernelspec": {
   "name": "python3",
   "display_name": "Python 3.9.5 64-bit ('numpy_exercises': conda)"
  },
  "interpreter": {
   "hash": "552f261bb9557322e982b35eb32853eb4640e9314a79e86295cc8f9140b9e3d9"
  }
 },
 "nbformat": 4,
 "nbformat_minor": 2,
 "cells": [
  {
   "cell_type": "code",
   "execution_count": 1,
   "metadata": {},
   "outputs": [
    {
     "output_type": "stream",
     "name": "stdout",
     "text": [
      "stuff\n"
     ]
    }
   ],
   "source": [
    "x = True\n",
    "\n",
    "if x:\n",
    "    print(\"stuff\")\n",
    "else:   \n",
    "    print(\"we don't want stuff\")"
   ]
  },
  {
   "cell_type": "code",
   "execution_count": null,
   "metadata": {},
   "outputs": [],
   "source": [
    "variable = True\n",
    "\n",
    "if variable:\n",
    "    print(\"stuff\")\n",
    "else:   \n",
    "    print(\"we don't want stuff\")"
   ]
  },
  {
   "cell_type": "code",
   "execution_count": 2,
   "metadata": {},
   "outputs": [
    {
     "output_type": "stream",
     "name": "stdout",
     "text": [
      "stuff\n"
     ]
    }
   ],
   "source": [
    "# boolean variables\n",
    "i_want_stuff = True\n",
    "\n",
    "if i_want_stuff:\n",
    "    print(\"stuff\")\n",
    "else:\n",
    "    print(\"we don't want stuff\")"
   ]
  },
  {
   "cell_type": "code",
   "execution_count": 3,
   "metadata": {},
   "outputs": [
    {
     "output_type": "stream",
     "name": "stdout",
     "text": [
      "the list is not empty!\n"
     ]
    }
   ],
   "source": [
    "our_list = [1,3,5,3,3]\n",
    "\n",
    "is_empty = ( len(our_list) == 0 )\n",
    "\n",
    "if is_empty:\n",
    "    print(\"list is empty!\")\n",
    "else:\n",
    "    print(\"the list is not empty!\")"
   ]
  },
  {
   "cell_type": "code",
   "execution_count": null,
   "metadata": {},
   "outputs": [],
   "source": []
  }
 ]
}