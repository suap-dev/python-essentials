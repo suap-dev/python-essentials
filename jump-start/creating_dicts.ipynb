{
 "metadata": {
  "language_info": {
   "codemirror_mode": {
    "name": "ipython",
    "version": 3
   },
   "file_extension": ".py",
   "mimetype": "text/x-python",
   "name": "python",
   "nbconvert_exporter": "python",
   "pygments_lexer": "ipython3",
   "version": "3.9.5"
  },
  "orig_nbformat": 4,
  "kernelspec": {
   "name": "python3",
   "display_name": "Python 3.9.5 64-bit ('numpy_exercises': conda)"
  },
  "interpreter": {
   "hash": "552f261bb9557322e982b35eb32853eb4640e9314a79e86295cc8f9140b9e3d9"
  }
 },
 "nbformat": 4,
 "nbformat_minor": 2,
 "cells": [
  {
   "source": [
    "### To create a dictionary u need a list of STRINGS as keys.\n",
    "(Please read this notebook to the end!)"
   ],
   "cell_type": "markdown",
   "metadata": {}
  },
  {
   "cell_type": "code",
   "execution_count": 14,
   "metadata": {},
   "outputs": [
    {
     "output_type": "execute_result",
     "data": {
      "text/plain": [
       "True"
      ]
     },
     "metadata": {},
     "execution_count": 14
    }
   ],
   "source": [
    "some_names = \"Jon\", \"Murtaza\", \"Wojtek\", \"Tahiru\", \"James\"  # this is a touple, could be a list\n",
    "some_other_stuff = 12, 'wow', None, 'something', 2-3j\n",
    "\n",
    "len(some_names) == len(some_other_stuff)"
   ]
  },
  {
   "cell_type": "code",
   "execution_count": 15,
   "metadata": {},
   "outputs": [
    {
     "output_type": "error",
     "ename": "TypeError",
     "evalue": "dict expected at most 1 argument, got 2",
     "traceback": [
      "\u001b[1;31m---------------------------------------------------------------------------\u001b[0m",
      "\u001b[1;31mTypeError\u001b[0m                                 Traceback (most recent call last)",
      "\u001b[1;32m<ipython-input-15-331033d1b5cf>\u001b[0m in \u001b[0;36m<module>\u001b[1;34m\u001b[0m\n\u001b[1;32m----> 1\u001b[1;33m \u001b[0mdict\u001b[0m\u001b[1;33m(\u001b[0m\u001b[0msome_names\u001b[0m\u001b[1;33m,\u001b[0m \u001b[0msome_other_stuff\u001b[0m\u001b[1;33m)\u001b[0m \u001b[1;31m# it's not gonna go, dict works diferently\u001b[0m\u001b[1;33m\u001b[0m\u001b[1;33m\u001b[0m\u001b[0m\n\u001b[0m",
      "\u001b[1;31mTypeError\u001b[0m: dict expected at most 1 argument, got 2"
     ]
    }
   ],
   "source": [
    "dict(some_names, some_other_stuff) # it's not gonna go, dict works diferently"
   ]
  },
  {
   "cell_type": "code",
   "execution_count": 16,
   "metadata": {},
   "outputs": [
    {
     "output_type": "execute_result",
     "data": {
      "text/plain": [
       "{'Jon': 12,\n",
       " 'Murtaza': 'wow',\n",
       " 'Wojtek': None,\n",
       " 'Tahiru': 'something',\n",
       " 'James': (2-3j)}"
      ]
     },
     "metadata": {},
     "execution_count": 16
    }
   ],
   "source": [
    "# we can FIRST zip the 2 lists/touples\n",
    "# then make a dictionary. :)\n",
    "dict(zip(some_names, some_other_stuff))"
   ]
  },
  {
   "source": [
    "### What will happen if the lengths are not equal?"
   ],
   "cell_type": "markdown",
   "metadata": {}
  },
  {
   "cell_type": "code",
   "execution_count": 21,
   "metadata": {},
   "outputs": [
    {
     "output_type": "stream",
     "name": "stdout",
     "text": [
      "4 5\n"
     ]
    }
   ],
   "source": [
    "some_names = \"Murtaza\", \"Wojtek\", \"Tahiru\", \"James\"  # less names than values :(\n",
    "some_other_stuff = 12, 'wow', None, 'something', 2-3j\n",
    "\n",
    "print(len(some_names), len(some_other_stuff))"
   ]
  },
  {
   "cell_type": "code",
   "execution_count": 20,
   "metadata": {},
   "outputs": [
    {
     "output_type": "execute_result",
     "data": {
      "text/plain": [
       "{'Murtaza': 12, 'Wojtek': 'wow', 'Tahiru': None, 'James': 'something'}"
      ]
     },
     "metadata": {},
     "execution_count": 20
    }
   ],
   "source": [
    "dict(zip(some_names, some_other_stuff))\n",
    "# What did we lose here?"
   ]
  },
  {
   "cell_type": "code",
   "execution_count": 25,
   "metadata": {},
   "outputs": [
    {
     "output_type": "stream",
     "name": "stdout",
     "text": [
      "5 3\n"
     ]
    }
   ],
   "source": [
    "some_names = \"Jon\", \"Murtaza\", \"Wojtek\", \"Tahiru\", \"James\"\n",
    "some_other_stuff = 12, 'wow', None # this time this one is shorter\n",
    "\n",
    "print(len(some_names), len(some_other_stuff))"
   ]
  },
  {
   "cell_type": "code",
   "execution_count": 27,
   "metadata": {},
   "outputs": [
    {
     "output_type": "execute_result",
     "data": {
      "text/plain": [
       "{'Jon': 12, 'Murtaza': 'wow', 'Wojtek': None}"
      ]
     },
     "metadata": {},
     "execution_count": 27
    }
   ],
   "source": [
    "dict(zip(some_names, some_other_stuff))\n",
    "# what did we lose this time?"
   ]
  },
  {
   "source": [
    "### What will happen if you try to use NUMBERS as keys? "
   ],
   "cell_type": "markdown",
   "metadata": {}
  },
  {
   "cell_type": "code",
   "execution_count": 29,
   "metadata": {},
   "outputs": [
    {
     "output_type": "execute_result",
     "data": {
      "text/plain": [
       "True"
      ]
     },
     "metadata": {},
     "execution_count": 29
    }
   ],
   "source": [
    "the_keys = 1,2,3,4\n",
    "the_values = 'I', 'U', 'H', 'S'\n",
    "\n",
    "len(the_keys) == len(the_values)"
   ]
  },
  {
   "cell_type": "code",
   "execution_count": 33,
   "metadata": {},
   "outputs": [],
   "source": [
    "smol_d  = dict(zip(the_keys, the_values))"
   ]
  },
  {
   "source": [
    "Let's try to check what type are the keyd in our small dictionary"
   ],
   "cell_type": "markdown",
   "metadata": {}
  },
  {
   "cell_type": "code",
   "execution_count": 41,
   "metadata": {},
   "outputs": [
    {
     "output_type": "execute_result",
     "data": {
      "text/plain": [
       "int"
      ]
     },
     "metadata": {},
     "execution_count": 41
    }
   ],
   "source": [
    "list_of_keys = list(smol_d.keys())\n",
    "type(list_of_keys[0])\n"
   ]
  },
  {
   "source": [
    "## :O\n",
    "### Ok, now I'm surprised. I was convinced that keys have to be STRING!\n",
    "But that's how we learn, by checking and trying. :)\n"
   ],
   "cell_type": "markdown",
   "metadata": {}
  }
 ]
}