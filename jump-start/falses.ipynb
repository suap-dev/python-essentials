{
 "metadata": {
  "language_info": {
   "codemirror_mode": {
    "name": "ipython",
    "version": 3
   },
   "file_extension": ".py",
   "mimetype": "text/x-python",
   "name": "python",
   "nbconvert_exporter": "python",
   "pygments_lexer": "ipython3",
   "version": "3.9.5"
  },
  "orig_nbformat": 4,
  "kernelspec": {
   "name": "python3",
   "display_name": "Python 3.9.5 64-bit ('numpy_exercises': conda)"
  },
  "interpreter": {
   "hash": "552f261bb9557322e982b35eb32853eb4640e9314a79e86295cc8f9140b9e3d9"
  }
 },
 "nbformat": 4,
 "nbformat_minor": 2,
 "cells": [
  {
   "cell_type": "code",
   "execution_count": 1,
   "metadata": {},
   "outputs": [
    {
     "output_type": "stream",
     "name": "stdout",
     "text": [
      "No output. :(\n"
     ]
    }
   ],
   "source": [
    "if False:\n",
    "    print(\"Some output. :)\")\n",
    "else:\n",
    "    print(\"No output. :(\")"
   ]
  },
  {
   "cell_type": "code",
   "execution_count": 3,
   "metadata": {},
   "outputs": [
    {
     "output_type": "stream",
     "name": "stdout",
     "text": [
      "No output. :(\n"
     ]
    }
   ],
   "source": [
    "if None:\n",
    "    print(\"Some output. :)\")\n",
    "else:\n",
    "    print(\"No output. :(\")"
   ]
  },
  {
   "cell_type": "code",
   "execution_count": 2,
   "metadata": {},
   "outputs": [
    {
     "output_type": "stream",
     "name": "stdout",
     "text": [
      "Some output. :)\n"
     ]
    }
   ],
   "source": [
    "import numpy as np\n",
    "if np.nan:\n",
    "    print(\"Some output. :)\") # here this one will compute!\n",
    "else:\n",
    "    print(\"No output. :(\")"
   ]
  },
  {
   "cell_type": "code",
   "execution_count": 5,
   "metadata": {},
   "outputs": [
    {
     "output_type": "stream",
     "name": "stdout",
     "text": [
      "No output. :(\n"
     ]
    }
   ],
   "source": [
    "if []:\n",
    "    print(\"Some output. :)\")\n",
    "else:\n",
    "    print(\"No output. :(\")"
   ]
  },
  {
   "cell_type": "code",
   "execution_count": 7,
   "metadata": {},
   "outputs": [
    {
     "output_type": "stream",
     "name": "stdout",
     "text": [
      "No output. :(\n"
     ]
    }
   ],
   "source": [
    "if '':\n",
    "    print(\"Some output. :)\")\n",
    "else:\n",
    "    print(\"No output. :(\")\n"
   ]
  },
  {
   "cell_type": "code",
   "execution_count": 8,
   "metadata": {},
   "outputs": [
    {
     "output_type": "stream",
     "name": "stdout",
     "text": [
      "No output. :(\n"
     ]
    }
   ],
   "source": [
    "if 0:\n",
    "    print(\"Some output. :)\")\n",
    "else:\n",
    "    print(\"No output. :(\")\n"
   ]
  },
  {
   "cell_type": "code",
   "execution_count": 9,
   "metadata": {},
   "outputs": [
    {
     "output_type": "stream",
     "name": "stdout",
     "text": [
      "No output. :(\n"
     ]
    }
   ],
   "source": [
    "if 0.0:\n",
    "    print(\"Some output. :)\")\n",
    "else:\n",
    "    print(\"No output. :(\")"
   ]
  },
  {
   "cell_type": "code",
   "execution_count": 10,
   "metadata": {},
   "outputs": [
    {
     "output_type": "stream",
     "name": "stdout",
     "text": [
      "No output. :(\n"
     ]
    }
   ],
   "source": [
    "if 0.0+0.0j:\n",
    "    print(\"Some output. :)\")\n",
    "else:\n",
    "    print(\"No output. :(\")"
   ]
  }
 ]
}