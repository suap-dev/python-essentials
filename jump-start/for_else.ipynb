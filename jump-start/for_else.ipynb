{
 "metadata": {
  "language_info": {
   "codemirror_mode": {
    "name": "ipython",
    "version": 3
   },
   "file_extension": ".py",
   "mimetype": "text/x-python",
   "name": "python",
   "nbconvert_exporter": "python",
   "pygments_lexer": "ipython3",
   "version": "3.9.5"
  },
  "orig_nbformat": 4,
  "kernelspec": {
   "name": "python3",
   "display_name": "Python 3.9.5 64-bit ('numpy_exercises': conda)"
  },
  "interpreter": {
   "hash": "552f261bb9557322e982b35eb32853eb4640e9314a79e86295cc8f9140b9e3d9"
  }
 },
 "nbformat": 4,
 "nbformat_minor": 2,
 "cells": [
  {
   "source": [
    "## For-Else"
   ],
   "cell_type": "markdown",
   "metadata": {}
  },
  {
   "cell_type": "code",
   "execution_count": 3,
   "metadata": {},
   "outputs": [],
   "source": [
    "our_list = [1, 2, 17, 0, 88]\n"
   ]
  },
  {
   "source": [
    "Here we break the loop before it reaches the end of our_list:"
   ],
   "cell_type": "markdown",
   "metadata": {}
  },
  {
   "cell_type": "code",
   "execution_count": 17,
   "metadata": {},
   "outputs": [
    {
     "output_type": "stream",
     "name": "stdout",
     "text": [
      "Found 2!\nWe broke the for when found 2 - without 'else'.\n"
     ]
    }
   ],
   "source": [
    "for element in our_list:\n",
    "    if element == 2:\n",
    "        print(\"Found 2!\")\n",
    "        break\n",
    "print(\"We broke the for when found 2 - without 'else'.\")"
   ]
  },
  {
   "cell_type": "code",
   "execution_count": 16,
   "metadata": {},
   "outputs": [
    {
     "output_type": "stream",
     "name": "stdout",
     "text": [
      "Found 2!\n"
     ]
    }
   ],
   "source": [
    "for element in our_list:\n",
    "    if element == 2:\n",
    "        print(\"Found 2!\")\n",
    "        break\n",
    "else:\n",
    "    print(\"We broke the for when found 2 - WITH 'else'.\")"
   ]
  },
  {
   "source": [
    "This time we DON'T break the loop before it reaches the end of our_list:"
   ],
   "cell_type": "markdown",
   "metadata": {}
  },
  {
   "cell_type": "code",
   "execution_count": null,
   "metadata": {},
   "outputs": [],
   "source": [
    "our_list = [1, 2, 17, 0, 88]"
   ]
  },
  {
   "cell_type": "code",
   "execution_count": 13,
   "metadata": {},
   "outputs": [
    {
     "output_type": "stream",
     "name": "stdout",
     "text": [
      "Loop iterated to the end - without 'else'.\n"
     ]
    }
   ],
   "source": [
    "for element in our_list:\n",
    "    if element == 1000:\n",
    "        print(\"Found 1000!\")\n",
    "        break\n",
    "print(\"Loop iterated throught the WHOLE list - without 'else'.\")"
   ]
  },
  {
   "cell_type": "code",
   "execution_count": 15,
   "metadata": {},
   "outputs": [
    {
     "output_type": "stream",
     "name": "stdout",
     "text": [
      "Loop iterated through the WHOLE list - WITH 'else'.\n"
     ]
    }
   ],
   "source": [
    "for element in our_list:\n",
    "    if element == 1000:\n",
    "        print(\"Found 1000!\")\n",
    "        break\n",
    "else:\n",
    "    print(\"Loop iterated through the WHOLE list - WITH 'else'.\")"
   ]
  }
 ]
}