{
 "metadata": {
  "language_info": {
   "codemirror_mode": {
    "name": "ipython",
    "version": 3
   },
   "file_extension": ".py",
   "mimetype": "text/x-python",
   "name": "python",
   "nbconvert_exporter": "python",
   "pygments_lexer": "ipython3",
   "version": "3.9.5"
  },
  "orig_nbformat": 4,
  "kernelspec": {
   "name": "python3",
   "display_name": "Python 3.9.5 64-bit ('numpy_exercises': conda)"
  },
  "interpreter": {
   "hash": "552f261bb9557322e982b35eb32853eb4640e9314a79e86295cc8f9140b9e3d9"
  }
 },
 "nbformat": 4,
 "nbformat_minor": 2,
 "cells": [
  {
   "source": [
    "## So how input works?"
   ],
   "cell_type": "markdown",
   "metadata": {}
  },
  {
   "source": [
    "<img src=\"imgs/input.png\">"
   ],
   "cell_type": "markdown",
   "metadata": {}
  },
  {
   "source": [
    "Well this will not even clearly state what it wants us to type:"
   ],
   "cell_type": "markdown",
   "metadata": {}
  },
  {
   "cell_type": "code",
   "execution_count": 11,
   "metadata": {},
   "outputs": [
    {
     "output_type": "execute_result",
     "data": {
      "text/plain": [
       "'Hai!'"
      ]
     },
     "metadata": {},
     "execution_count": 11
    }
   ],
   "source": [
    "input()\n"
   ]
  },
  {
   "source": [
    "This will inform us bout it's intentions:"
   ],
   "cell_type": "markdown",
   "metadata": {}
  },
  {
   "cell_type": "code",
   "execution_count": 12,
   "metadata": {},
   "outputs": [
    {
     "output_type": "execute_result",
     "data": {
      "text/plain": [
       "'This is a text.'"
      ]
     },
     "metadata": {},
     "execution_count": 12
    }
   ],
   "source": [
    "input(\"Give me some text: \")"
   ]
  },
  {
   "source": [
    "This one will tell us what it wants, and then it's gonna save our answer!"
   ],
   "cell_type": "markdown",
   "metadata": {}
  },
  {
   "cell_type": "code",
   "execution_count": 3,
   "metadata": {},
   "outputs": [
    {
     "output_type": "stream",
     "name": "stdout",
     "text": [
      "This is your text: Sexy!\n"
     ]
    }
   ],
   "source": [
    "text = input(\"Give more text!: \")\n",
    "print(\"This is your text:\", text)"
   ]
  },
  {
   "source": [
    "And about numbers..."
   ],
   "cell_type": "markdown",
   "metadata": {}
  },
  {
   "cell_type": "code",
   "execution_count": 13,
   "metadata": {},
   "outputs": [
    {
     "output_type": "stream",
     "name": "stdout",
     "text": [
      "12765\n"
     ]
    }
   ],
   "source": [
    "num1 = input(\"Give me the first number: \")\n",
    "num2 = input(\"Give me another number: \")\n",
    "\n",
    "result = num1+num2 # 12 + 765\n",
    "print(result)"
   ]
  },
  {
   "source": [
    "Whoops, we didn't get what we expecterd in the cell above. :("
   ],
   "cell_type": "markdown",
   "metadata": {}
  },
  {
   "source": [
    "That's because input() returns a string!\n",
    "We have to cast it to a number first :)"
   ],
   "cell_type": "markdown",
   "metadata": {}
  },
  {
   "cell_type": "code",
   "execution_count": 15,
   "metadata": {},
   "outputs": [
    {
     "output_type": "stream",
     "name": "stdout",
     "text": [
      "777\n"
     ]
    }
   ],
   "source": [
    "num1 = int( input(\"Give me the first number: \") )\n",
    "num2 = int( input(\"Give me another number: \") )\n",
    "\n",
    "result = num1+num2 # 12 + 765\n",
    "print(result)"
   ]
  },
  {
   "source": [
    "### Well done! :)"
   ],
   "cell_type": "markdown",
   "metadata": {}
  }
 ]
}