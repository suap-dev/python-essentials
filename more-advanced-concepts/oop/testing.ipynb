{
 "cells": [
  {
   "cell_type": "code",
   "execution_count": 8,
   "source": [
    "from dog import Dog\r\n",
    "from person import Person"
   ],
   "outputs": [],
   "metadata": {}
  },
  {
   "cell_type": "code",
   "execution_count": 2,
   "source": [
    "m = Person('Lucy', 21, 'female')"
   ],
   "outputs": [],
   "metadata": {}
  },
  {
   "cell_type": "code",
   "execution_count": 3,
   "source": [
    "b = Person('Stefan', 25, 'male', partner=m)\r\n",
    "m.partner = b"
   ],
   "outputs": [],
   "metadata": {}
  },
  {
   "cell_type": "code",
   "execution_count": 4,
   "source": [
    "m.dog = Dog(\"Bingo\", 6, 'Pomeranian')"
   ],
   "outputs": [],
   "metadata": {}
  },
  {
   "cell_type": "code",
   "execution_count": 5,
   "source": [
    "m.dog"
   ],
   "outputs": [
    {
     "output_type": "execute_result",
     "data": {
      "text/plain": [
       "Bingo, 6 years old Pomeranian"
      ]
     },
     "metadata": {},
     "execution_count": 5
    }
   ],
   "metadata": {}
  },
  {
   "cell_type": "code",
   "execution_count": 6,
   "source": [
    "print(m)\r\n",
    "print(b)"
   ],
   "outputs": [
    {
     "output_type": "stream",
     "name": "stdout",
     "text": [
      "Lucy, age 21, hot\n",
      "Stefan, age 25, handsome\n"
     ]
    }
   ],
   "metadata": {}
  },
  {
   "cell_type": "code",
   "execution_count": 16,
   "source": [
    "print(b.partner.dog)\r\n",
    "b.partner.partner.get_partner().partner.partner.get_partner().partner.dog.bark()"
   ],
   "outputs": [
    {
     "output_type": "stream",
     "name": "stdout",
     "text": [
      "Bingo, 6 years old Pomeranian\n",
      "WOOF!\n"
     ]
    }
   ],
   "metadata": {}
  },
  {
   "cell_type": "code",
   "execution_count": null,
   "source": [
    "v = Vec2(1,2)\r\n",
    "f = Trojm(1,2,3)\r\n",
    "\r\n",
    "((f @ v) @ v).vertex"
   ],
   "outputs": [],
   "metadata": {}
  }
 ],
 "metadata": {
  "orig_nbformat": 4,
  "language_info": {
   "name": "python",
   "version": "3.8.10",
   "mimetype": "text/x-python",
   "codemirror_mode": {
    "name": "ipython",
    "version": 3
   },
   "pygments_lexer": "ipython3",
   "nbconvert_exporter": "python",
   "file_extension": ".py"
  },
  "kernelspec": {
   "name": "python3",
   "display_name": "Python 3.8.10 64-bit ('mybase': conda)"
  },
  "interpreter": {
   "hash": "e5c24b2b537dfbe6a571425af540a75c5b81bb7cca3bd316879df289e1bdc045"
  }
 },
 "nbformat": 4,
 "nbformat_minor": 2
}