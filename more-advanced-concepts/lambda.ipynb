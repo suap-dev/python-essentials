{
 "cells": [
  {
   "cell_type": "markdown",
   "metadata": {},
   "source": [
    "## Lambda Functions"
   ]
  },
  {
   "cell_type": "markdown",
   "metadata": {},
   "source": [
    "Let's consider a function `compute(array, function)` that can process data for us with a function that we provide."
   ]
  },
  {
   "cell_type": "code",
   "execution_count": 1,
   "metadata": {},
   "outputs": [],
   "source": [
    "def compute(array, function):\r\n",
    "\r\n",
    "    new_array = []\r\n",
    "\r\n",
    "    for base_element in array:\r\n",
    "        \r\n",
    "        new_element = function(base_element)\r\n",
    "        new_array.append(new_element)\r\n",
    "\r\n",
    "    return new_array"
   ]
  },
  {
   "cell_type": "code",
   "execution_count": 2,
   "metadata": {},
   "outputs": [],
   "source": [
    "input_array = [1,2,5,10,1,2]"
   ]
  },
  {
   "cell_type": "markdown",
   "metadata": {},
   "source": [
    "We can provide `math.sqrt()` function as an argument for `compute()` function so that it applies `sqrt()` to all the elements of the given array.<br>(Notice that we only pass a name of the function without parenteses.)"
   ]
  },
  {
   "cell_type": "code",
   "execution_count": 3,
   "metadata": {},
   "outputs": [
    {
     "data": {
      "text/plain": [
       "[1.0,\n",
       " 1.4142135623730951,\n",
       " 2.23606797749979,\n",
       " 3.1622776601683795,\n",
       " 1.0,\n",
       " 1.4142135623730951]"
      ]
     },
     "execution_count": 3,
     "metadata": {},
     "output_type": "execute_result"
    }
   ],
   "source": [
    "import math\r\n",
    "output = compute(input_array, math.sqrt)\r\n",
    "output"
   ]
  },
  {
   "cell_type": "markdown",
   "metadata": {},
   "source": [
    "We can create our own function with the name we desire."
   ]
  },
  {
   "cell_type": "code",
   "execution_count": 4,
   "metadata": {},
   "outputs": [],
   "source": [
    "def add_one_and_square_it_man(variable):\r\n",
    "    return (variable+1)**2\r\n"
   ]
  },
  {
   "cell_type": "markdown",
   "metadata": {},
   "source": [
    "And then pass it's name as an argument to `compute()`."
   ]
  },
  {
   "cell_type": "code",
   "execution_count": 5,
   "metadata": {},
   "outputs": [
    {
     "data": {
      "text/plain": [
       "[4, 9, 36, 121, 4, 9]"
      ]
     },
     "execution_count": 5,
     "metadata": {},
     "output_type": "execute_result"
    }
   ],
   "source": [
    "output = compute(input_array, add_one_and_square_it_man)\r\n",
    "output"
   ]
  },
  {
   "cell_type": "markdown",
   "metadata": {},
   "source": [
    "But that's a lot of typing! So we can specify the function on the fly (inline) like this."
   ]
  },
  {
   "cell_type": "code",
   "execution_count": 6,
   "metadata": {},
   "outputs": [
    {
     "data": {
      "text/plain": [
       "[4, 9, 36, 121, 4, 9]"
      ]
     },
     "execution_count": 6,
     "metadata": {},
     "output_type": "execute_result"
    }
   ],
   "source": [
    "output = compute(input_array, lambda x: (x+1)**2)\r\n",
    "output"
   ]
  },
  {
   "cell_type": "code",
   "execution_count": 7,
   "metadata": {},
   "outputs": [
    {
     "data": {
      "text/plain": [
       "[-1.0, -0.5, -0.2, -0.1, -1.0, -0.5]"
      ]
     },
     "execution_count": 7,
     "metadata": {},
     "output_type": "execute_result"
    }
   ],
   "source": [
    "output = compute(input_array, lambda x: -1/x)\r\n",
    "output"
   ]
  },
  {
   "cell_type": "markdown",
   "metadata": {},
   "source": [
    "U can also give a name to your lambda, it's equivalent to defining a function the regular way."
   ]
  },
  {
   "cell_type": "code",
   "execution_count": 8,
   "metadata": {},
   "outputs": [],
   "source": [
    "log_of_square = lambda x: math.log(x**2)"
   ]
  },
  {
   "cell_type": "markdown",
   "metadata": {},
   "source": [
    "And use it with it's name."
   ]
  },
  {
   "cell_type": "code",
   "execution_count": 9,
   "metadata": {},
   "outputs": [
    {
     "data": {
      "text/plain": [
       "5.666426688112432"
      ]
     },
     "execution_count": 9,
     "metadata": {},
     "output_type": "execute_result"
    }
   ],
   "source": [
    "output = log_of_square(17)\r\n",
    "output"
   ]
  },
  {
   "cell_type": "markdown",
   "metadata": {},
   "source": [
    "Or pass its name as an argument."
   ]
  },
  {
   "cell_type": "code",
   "execution_count": 10,
   "metadata": {},
   "outputs": [
    {
     "data": {
      "text/plain": [
       "[0.0,\n",
       " 1.3862943611198906,\n",
       " 3.2188758248682006,\n",
       " 4.605170185988092,\n",
       " 0.0,\n",
       " 1.3862943611198906]"
      ]
     },
     "execution_count": 10,
     "metadata": {},
     "output_type": "execute_result"
    }
   ],
   "source": [
    "output = compute(input_array, log_of_square)\r\n",
    "output"
   ]
  },
  {
   "cell_type": "markdown",
   "metadata": {},
   "source": [
    "We can also specify lambdas (like normal functions) with several arguments."
   ]
  },
  {
   "cell_type": "code",
   "execution_count": 11,
   "metadata": {},
   "outputs": [],
   "source": [
    "do_stuff = lambda x, y: x**2 - math.sqrt(y)"
   ]
  },
  {
   "cell_type": "code",
   "execution_count": 12,
   "metadata": {},
   "outputs": [
    {
     "data": {
      "text/plain": [
       "2.0"
      ]
     },
     "execution_count": 12,
     "metadata": {},
     "output_type": "execute_result"
    }
   ],
   "source": [
    "returned_value = do_stuff(2,4)\r\n",
    "returned_value"
   ]
  },
  {
   "cell_type": "markdown",
   "metadata": {},
   "source": [
    "We can do some more complicated stuff as well. Like we specify a function that takes a two-argument function as its argument and pass one of arguments to the inner function.<br>Did I just win the contest of obfuscated comments? :)\r\n",
    "\r\n",
    "Let's just check what it does."
   ]
  },
  {
   "cell_type": "code",
   "execution_count": 13,
   "metadata": {},
   "outputs": [],
   "source": [
    "def compute_with_number(array, function, number):\r\n",
    "\r\n",
    "    new_array = []\r\n",
    "\r\n",
    "    for x in array:\r\n",
    "        new_array.append(function(x, number))\r\n",
    "    \r\n",
    "    return new_array\r\n"
   ]
  },
  {
   "cell_type": "markdown",
   "metadata": {},
   "source": [
    "We pass an array, a function and a number as arguments."
   ]
  },
  {
   "cell_type": "code",
   "execution_count": 14,
   "metadata": {},
   "outputs": [
    {
     "data": {
      "text/plain": [
       "[5.0, 12.0, -3.0, 0.0, 285.0]"
      ]
     },
     "execution_count": 14,
     "metadata": {},
     "output_type": "execute_result"
    }
   ],
   "source": [
    "result = compute_with_number([3,4,1,2,17], do_stuff, 16)\r\n",
    "result"
   ]
  },
  {
   "cell_type": "markdown",
   "metadata": {},
   "source": [
    "We can also pass an inline lambda instead of named function."
   ]
  },
  {
   "cell_type": "code",
   "execution_count": 15,
   "metadata": {},
   "outputs": [
    {
     "data": {
      "text/plain": [
       "[8, 9, 6, 7, 22]"
      ]
     },
     "execution_count": 15,
     "metadata": {},
     "output_type": "execute_result"
    }
   ],
   "source": [
    "result = compute_with_number([3,4,1,2,17], lambda x,y: x+y, 5)\r\n",
    "result"
   ]
  },
  {
   "cell_type": "markdown",
   "metadata": {},
   "source": [
    "Let's go crazy."
   ]
  },
  {
   "cell_type": "code",
   "execution_count": 16,
   "metadata": {},
   "outputs": [
    {
     "data": {
      "text/plain": [
       "[15.4, 22.8, 10.2, 11.6, 992.6]"
      ]
     },
     "execution_count": 16,
     "metadata": {},
     "output_type": "execute_result"
    }
   ],
   "source": [
    "result = compute_with_number([3,4,1,2,17], lambda x,y: 2*x**3/y + y, 10)\r\n",
    "result"
   ]
  },
  {
   "cell_type": "markdown",
   "metadata": {},
   "source": [
    "And now some really crazy stuff. :]"
   ]
  },
  {
   "cell_type": "code",
   "execution_count": 17,
   "metadata": {},
   "outputs": [],
   "source": [
    "def apply_composition_of_functions(dataset, function1, function2, function3):\r\n",
    "    return [function3(function2(function1(element))) for element in dataset]"
   ]
  },
  {
   "cell_type": "code",
   "execution_count": 18,
   "metadata": {},
   "outputs": [
    {
     "data": {
      "text/plain": [
       "array([  1, -10,  -6,   6,  -5,  -5,   7,   0, -10,   1,   9,  -3,   5,\n",
       "        -8,  -9,   4,  -7,   4,   3,  -4])"
      ]
     },
     "execution_count": 18,
     "metadata": {},
     "output_type": "execute_result"
    }
   ],
   "source": [
    "import numpy as np\r\n",
    "data = np.random.randint(-10,10,size=20)\r\n",
    "data"
   ]
  },
  {
   "cell_type": "markdown",
   "metadata": {},
   "source": [
    "We feed our `apply_composition_of_functions()` function with the following arguments:\r\n",
    "- dataset it's supposed to operate on,\r\n",
    "- function#1 which it's supposed to apply to each element,\r\n",
    "- function#2 which it's supposed to apply to computated value of function#1,\r\n",
    "- function#3 which it's supposed to apply to computated value of function#2.\r\n",
    "\r\n",
    "And we do it with lambdas, why waste time definig these functions if we're only gonna use them once?"
   ]
  },
  {
   "cell_type": "code",
   "execution_count": 19,
   "metadata": {},
   "outputs": [
    {
     "data": {
      "text/plain": [
       "[0.5213419575855511,\n",
       " 124.43720166306838,\n",
       " 60.71556180698277,\n",
       " 60.71556180698277,\n",
       " 44.78332368016214,\n",
       " 44.78332368016214,\n",
       " 76.8290587100457,\n",
       " 2.0,\n",
       " 124.43720166306838,\n",
       " 0.5213419575855511,\n",
       " 108.7863222011779,\n",
       " 15.601527402741478,\n",
       " 44.78332368016214,\n",
       " 92.89429234965803,\n",
       " 108.7863222011779,\n",
       " 29.46382308064108,\n",
       " 76.8290587100457,\n",
       " 29.46382308064108,\n",
       " 15.601527402741478,\n",
       " 29.46382308064108]"
      ]
     },
     "execution_count": 19,
     "metadata": {},
     "output_type": "execute_result"
    }
   ],
   "source": [
    "processed_data = apply_composition_of_functions(\r\n",
    "                        data,\r\n",
    "                        lambda x: x**2+1,\r\n",
    "                        lambda x: np.log(x),\r\n",
    "                        lambda x: x**3+2*x**2-4*x+2\r\n",
    "                    )\r\n",
    "processed_data"
   ]
  },
  {
   "cell_type": "markdown",
   "metadata": {},
   "source": [
    "Let's plot this shit!"
   ]
  },
  {
   "cell_type": "code",
   "execution_count": 61,
   "metadata": {},
   "outputs": [],
   "source": [
    "args = np.arange(-1.5,1.5,0.01)\r\n",
    "vals = apply_composition_of_functions(\r\n",
    "                        args,\r\n",
    "                        lambda x: x**2+1,\r\n",
    "                        lambda x: np.log(x),\r\n",
    "                        lambda x: x**3+2*x**2-4*x+2\r\n",
    "                    )"
   ]
  },
  {
   "cell_type": "code",
   "execution_count": 62,
   "metadata": {},
   "outputs": [],
   "source": [
    "import seaborn as sns"
   ]
  },
  {
   "cell_type": "code",
   "execution_count": 63,
   "metadata": {},
   "outputs": [
    {
     "data": {
      "text/plain": [
       "<AxesSubplot:>"
      ]
     },
     "execution_count": 63,
     "metadata": {},
     "output_type": "execute_result"
    },
    {
     "data": {
      "image/png": "[encoded data removed]",
      "text/plain": [
       "<Figure size 432x288 with 1 Axes>"
      ]
     },
     "metadata": {
      "needs_background": "light"
     },
     "output_type": "display_data"
    }
   ],
   "source": [
    "sns.lineplot(x = args, y = vals)"
   ]
  },
  {
   "cell_type": "markdown",
   "metadata": {},
   "source": [
    "Well, tbh I hoped it's gonna be uglier. Let's try something else! :]"
   ]
  },
  {
   "cell_type": "code",
   "execution_count": 59,
   "metadata": {},
   "outputs": [],
   "source": [
    "args = np.arange(-1.5,2.5,0.01)\r\n",
    "vals = apply_composition_of_functions(\r\n",
    "    args,\r\n",
    "    lambda x: x**5 - 8*x**3 + 10*x + 6,\r\n",
    "    lambda x: x/2,\r\n",
    "    lambda x: x**3\r\n",
    ")"
   ]
  },
  {
   "cell_type": "code",
   "execution_count": 60,
   "metadata": {},
   "outputs": [
    {
     "data": {
      "text/plain": [
       "<AxesSubplot:>"
      ]
     },
     "execution_count": 60,
     "metadata": {},
     "output_type": "execute_result"
    },
    {
     "data": {
      "image/png": "[encoded data removed]",
      "text/plain": [
       "<Figure size 432x288 with 1 Axes>"
      ]
     },
     "metadata": {
      "needs_background": "light"
     },
     "output_type": "display_data"
    }
   ],
   "source": [
    "sns.lineplot(x = args, y = vals)"
   ]
  },
  {
   "cell_type": "markdown",
   "metadata": {},
   "source": [
    "## PROFIT!"
   ]
  },
  {
   "cell_type": "markdown",
   "metadata": {},
   "source": [
    "And it's not even my final form..."
   ]
  }
 ],
 "metadata": {
  "interpreter": {
   "hash": "0b3835b907b6cc7d301aec5540e8a0fbdbe5019d215ce85ebb6eb02d9dcf944e"
  },
  "kernelspec": {
   "display_name": "Python 3.8.10 64-bit ('numba': conda)",
   "name": "python3"
  },
  "language_info": {
   "codemirror_mode": {
    "name": "ipython",
    "version": 3
   },
   "file_extension": ".py",
   "mimetype": "text/x-python",
   "name": "python",
   "nbconvert_exporter": "python",
   "pygments_lexer": "ipython3",
   "version": "3.8.10"
  },
  "orig_nbformat": 4
 },
 "nbformat": 4,
 "nbformat_minor": 2
}