{
 "cells": [
  {
   "cell_type": "markdown",
   "metadata": {},
   "source": [
    "## Let's get the quartiles! I'll try a few diferent approaches.\r\n"
   ]
  },
  {
   "cell_type": "markdown",
   "metadata": {},
   "source": [
    "### `1` - This approach is quite bulky, but I tried to make the code as self-explanatory as possible.\r\n",
    "(But I thinks it's a freaking overkill... There are simplified versions below. :))"
   ]
  },
  {
   "cell_type": "code",
   "execution_count": 1,
   "metadata": {},
   "outputs": [],
   "source": [
    "# helper functions, not really necessary, may provide readibility or confussion\r\n",
    "def convert_to_element_number(index):\r\n",
    "    return index+1\r\n",
    "\r\n",
    "def convert_to_index(element_number):\r\n",
    "    return element_number-1\r\n",
    "\r\n",
    "def is_even(number):\r\n",
    "    return number%2 == 0"
   ]
  },
  {
   "cell_type": "markdown",
   "metadata": {},
   "source": [
    "Function `get_median(numerical_dataset)` does exactly what it states. :) But it requires a sorted dataset...<br>(But the way we coded it is kinda an overkilled with so many variables trying to explain sooo much.)"
   ]
  },
  {
   "cell_type": "code",
   "execution_count": 2,
   "metadata": {},
   "outputs": [],
   "source": [
    "def get_median(sorted_dataset):\r\n",
    "    \r\n",
    "    length_of_the_dataset = len(sorted_dataset)\r\n",
    "    assert length_of_the_dataset >= 0\r\n",
    "    \r\n",
    "    if is_even(length_of_the_dataset):\r\n",
    "        nr_of_first_number = length_of_the_dataset//2\r\n",
    "        nr_of_second_number = length_of_the_dataset//2 + 1\r\n",
    "\r\n",
    "        index_of_first_number = convert_to_index(nr_of_first_number)\r\n",
    "        index_of_second_number = convert_to_index(nr_of_second_number)\r\n",
    "\r\n",
    "        first_number = sorted_dataset[index_of_first_number]\r\n",
    "        second_number = sorted_dataset[index_of_second_number]\r\n",
    "\r\n",
    "        median = (first_number+second_number)/2\r\n",
    "\r\n",
    "    else:\r\n",
    "        nr_of_central_value = length_of_the_dataset//2 + 1\r\n",
    "        index_of_central_value = convert_to_index(nr_of_central_value)\r\n",
    "        central_value = sorted_dataset[index_of_central_value]\r\n",
    "\r\n",
    "        median = central_value\r\n",
    "\r\n",
    "    return median"
   ]
  },
  {
   "cell_type": "markdown",
   "metadata": {},
   "source": [
    "The function `divide_by_mean(sorted_dataset)`, but it has to be sorted... We don't love \"buts\"...<br>(We're not gonna use it, but it's a possible way to implement the division of the dataset to subsets.)"
   ]
  },
  {
   "cell_type": "code",
   "execution_count": 3,
   "metadata": {},
   "outputs": [],
   "source": [
    "def divide_by_median(sorted_dataset):\r\n",
    "\r\n",
    "    length_of_the_dataset = len(sorted_dataset)\r\n",
    "    assert length_of_the_dataset >= 0\r\n",
    "\r\n",
    "    median = get_median(sorted_dataset)\r\n",
    "\r\n",
    "    data_subset_1 = []\r\n",
    "    data_subset_2 = []\r\n",
    "\r\n",
    "    for index in range(0, length_of_the_dataset):\r\n",
    "\r\n",
    "        if sorted_dataset[index] <= median:\r\n",
    "            data_subset_1.append(sorted_dataset[index])\r\n",
    "\r\n",
    "        else:\r\n",
    "            data_subset_2.append(sorted_dataset[index])\r\n",
    "            \r\n",
    "    return data_subset_1, data_subset_2"
   ]
  },
  {
   "cell_type": "markdown",
   "metadata": {},
   "source": [
    "We will use the function `divide_sorted_set_by_number(sorted_dataset, number)`, since it's more versatile.<br>But here we also have a \"but\" - the dataset has to be sorted!"
   ]
  },
  {
   "cell_type": "code",
   "execution_count": 4,
   "metadata": {},
   "outputs": [],
   "source": [
    "def divide_sorted_set_by_number(sorted_dataset, number):\r\n",
    "\r\n",
    "    length_of_the_dataset = len(sorted_dataset)\r\n",
    "    assert length_of_the_dataset >= 0    \r\n",
    "\r\n",
    "    data_subset_1 = []\r\n",
    "    data_subset_2 = []\r\n",
    "\r\n",
    "    for index in range(0, length_of_the_dataset):\r\n",
    "\r\n",
    "        if sorted_dataset[index] <= number:\r\n",
    "            data_subset_1.append(sorted_dataset[index])\r\n",
    "\r\n",
    "        else:\r\n",
    "            data_subset_2.append(sorted_dataset[index])\r\n",
    "            \r\n",
    "    return data_subset_1, data_subset_2"
   ]
  },
  {
   "cell_type": "markdown",
   "metadata": {},
   "source": [
    "Conclusion of the actual algorithm using the defined functions:"
   ]
  },
  {
   "cell_type": "code",
   "execution_count": 5,
   "metadata": {},
   "outputs": [],
   "source": [
    "def get_quartiles(numerical_dataset):\r\n",
    "    \r\n",
    "    assert len(numerical_dataset) >= 0\r\n",
    "\r\n",
    "    sorted_set = sorted(numerical_dataset)\r\n",
    "\r\n",
    "    quartile_2 = get_median(sorted_set)\r\n",
    "    subset_1, subset_2 = divide_sorted_set_by_number(sorted_set, quartile_2)\r\n",
    "    \r\n",
    "    quartile_1 = get_median(subset_1)\r\n",
    "    quartile_3 = get_median(subset_2)\r\n",
    "    \r\n",
    "    return quartile_1, quartile_2, quartile_3"
   ]
  },
  {
   "cell_type": "code",
   "execution_count": 6,
   "metadata": {},
   "outputs": [
    {
     "data": {
      "text/plain": [
       "(2.0, 4, 7)"
      ]
     },
     "execution_count": 6,
     "metadata": {},
     "output_type": "execute_result"
    }
   ],
   "source": [
    "get_quartiles([1,7,8,2,3,6,9,4,5,10,1,2,1,4,5])"
   ]
  },
  {
   "cell_type": "markdown",
   "metadata": {},
   "source": [
    "#### Profit!"
   ]
  },
  {
   "cell_type": "markdown",
   "metadata": {},
   "source": [
    "### `2` - Now let's do all of this in a more fasionable way. Less lines, more profit. :]"
   ]
  },
  {
   "cell_type": "markdown",
   "metadata": {},
   "source": [
    "This is a cool way to look at the problem - we will try to always compute the subsets and the mean.<br>But it's not the best solution in terms of performance, because we always sort the list, even if we're not extracting the subsets.<br>(You'll see what I mean in the function quartiles(dataset).)"
   ]
  },
  {
   "cell_type": "code",
   "execution_count": 7,
   "metadata": {},
   "outputs": [],
   "source": [
    "def get_median_and_divide(dataset):\r\n",
    "\r\n",
    "    ds_length = len(dataset)\r\n",
    "    assert ds_length >= 0\r\n",
    "\r\n",
    "    dataset.sort()\r\n",
    "\r\n",
    "    middle = ds_length // 2\r\n",
    "    median = dataset[middle]\r\n",
    "\r\n",
    "    if is_even(ds_length):\r\n",
    "        median = (median + dataset[middle-1])/2\r\n",
    "        \r\n",
    "    return [number for number in dataset if number <= median], [number for number in dataset if number > median], median\r\n",
    "    "
   ]
  },
  {
   "cell_type": "markdown",
   "metadata": {},
   "source": [
    "In the function below u can notice we're igoring 2 of the returned values of `get_mean_and_divite(dataset)`.<br>We assign their values to a variable with garbage name of `_`. We're basicaly performing some redundant sortings and list comprehensions."
   ]
  },
  {
   "cell_type": "code",
   "execution_count": 8,
   "metadata": {},
   "outputs": [],
   "source": [
    "def quartiles(dataset):\r\n",
    "    \r\n",
    "    assert len(dataset) >= 0\r\n",
    "\r\n",
    "    subset_1, subset_2, quartile_2 = get_median_and_divide(dataset)\r\n",
    "    \r\n",
    "    _, _, quartile_1 = get_median_and_divide(subset_1)\r\n",
    "    _, _, quartile_3 = get_median_and_divide(subset_2)\r\n",
    "\r\n",
    "    return quartile_1, quartile_2, quartile_3"
   ]
  },
  {
   "cell_type": "code",
   "execution_count": 9,
   "metadata": {},
   "outputs": [
    {
     "data": {
      "text/plain": [
       "(2.0, 4, 7)"
      ]
     },
     "execution_count": 9,
     "metadata": {},
     "output_type": "execute_result"
    }
   ],
   "source": [
    "quartiles([1,7,8,2,3,6,9,4,5,10,1,2,1,4,5])"
   ]
  },
  {
   "cell_type": "markdown",
   "metadata": {},
   "source": [
    "#### Profit!"
   ]
  },
  {
   "cell_type": "markdown",
   "metadata": {},
   "source": [
    "### `3` - We can also speed this up a bit by splitting the funcion we used before into 2 separate functions.\r\n",
    "(We'll use our helper function defined before - `is_even(number)` - to improve readibility.)"
   ]
  },
  {
   "cell_type": "code",
   "execution_count": 10,
   "metadata": {},
   "outputs": [],
   "source": [
    "def median(dataset):\r\n",
    "\r\n",
    "    ds_length = len(dataset)\r\n",
    "    assert ds_length >= 0\r\n",
    "\r\n",
    "    dataset.sort()  # (**) notice this for later reference\r\n",
    "\r\n",
    "    middle = ds_length // 2\r\n",
    "    median = dataset[middle]    \r\n",
    "    \r\n",
    "    return median if is_even(ds_length) else (median + dataset[middle-1])/2"
   ]
  },
  {
   "cell_type": "markdown",
   "metadata": {},
   "source": [
    "It doesn't matter for the `divide(dataset, division_value)` if the given dataset is sorted, so we can safely process an unsorted dataset."
   ]
  },
  {
   "cell_type": "code",
   "execution_count": 11,
   "metadata": {},
   "outputs": [],
   "source": [
    "def divide(dataset, division_value):\r\n",
    "    \r\n",
    "    assert len(dataset) >= 0\r\n",
    "    \r\n",
    "    return [number for number in dataset if number <= division_value], [number for number in dataset if number > division_value]"
   ]
  },
  {
   "cell_type": "markdown",
   "metadata": {},
   "source": [
    "And since our `mean(dataset)` function sorts the set (**) before looking for the mean - everything works fine here:"
   ]
  },
  {
   "cell_type": "code",
   "execution_count": 12,
   "metadata": {},
   "outputs": [],
   "source": [
    "def quartiles_(dataset):\r\n",
    "    \r\n",
    "    assert len(dataset) >= 0\r\n",
    "\r\n",
    "    quartile_2 = median(dataset)\r\n",
    "    subset_1, subset_2 = divide(dataset, quartile_2)\r\n",
    "    \r\n",
    "    return median(subset_1), quartile_2, median(subset_2)"
   ]
  },
  {
   "cell_type": "code",
   "execution_count": 13,
   "metadata": {},
   "outputs": [
    {
     "data": {
      "text/plain": [
       "(2, 4.0, 6.5)"
      ]
     },
     "execution_count": 13,
     "metadata": {},
     "output_type": "execute_result"
    }
   ],
   "source": [
    "quartiles_([1,7,8,2,3,6,9,4,5,10,1,2,1,4,5])"
   ]
  },
  {
   "cell_type": "markdown",
   "metadata": {},
   "source": [
    "## So there are many ways of achieving the same task. Pick your favourite! :D"
   ]
  },
  {
   "cell_type": "markdown",
   "metadata": {},
   "source": []
  }
 ],
 "metadata": {
  "interpreter": {
   "hash": "0b3835b907b6cc7d301aec5540e8a0fbdbe5019d215ce85ebb6eb02d9dcf944e"
  },
  "kernelspec": {
   "display_name": "Python 3.8.10 64-bit ('numba': conda)",
   "name": "python3"
  },
  "language_info": {
   "codemirror_mode": {
    "name": "ipython",
    "version": 3
   },
   "file_extension": ".py",
   "mimetype": "text/x-python",
   "name": "python",
   "nbconvert_exporter": "python",
   "pygments_lexer": "ipython3",
   "version": "3.8.10"
  },
  "orig_nbformat": 4
 },
 "nbformat": 4,
 "nbformat_minor": 2
}