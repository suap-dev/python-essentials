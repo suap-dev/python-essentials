{
 "metadata": {
  "language_info": {
   "codemirror_mode": {
    "name": "ipython",
    "version": 3
   },
   "file_extension": ".py",
   "mimetype": "text/x-python",
   "name": "python",
   "nbconvert_exporter": "python",
   "pygments_lexer": "ipython3",
   "version": "3.8.10"
  },
  "orig_nbformat": 4,
  "kernelspec": {
   "name": "python3",
   "display_name": "Python 3.8.10 64-bit ('numba': conda)"
  },
  "interpreter": {
   "hash": "0b3835b907b6cc7d301aec5540e8a0fbdbe5019d215ce85ebb6eb02d9dcf944e"
  }
 },
 "nbformat": 4,
 "nbformat_minor": 2,
 "cells": [
  {
   "source": [
    "# Using numba package to compile functions to machine code.\n",
    "Compiling will make our function WAY faster, since machine code is basicaly the language of our processor (CPU)."
   ],
   "cell_type": "markdown",
   "metadata": {}
  },
  {
   "cell_type": "code",
   "execution_count": 1,
   "metadata": {},
   "outputs": [],
   "source": [
    "from numba import njit\n",
    "import numpy as np"
   ]
  },
  {
   "source": [
    "### Let's go for some big array of this shape:"
   ],
   "cell_type": "markdown",
   "metadata": {}
  },
  {
   "cell_type": "code",
   "execution_count": 2,
   "metadata": {},
   "outputs": [],
   "source": [
    "\n",
    "ROWS, COLUMNS = 2000, 2000"
   ]
  },
  {
   "source": [
    "### TL;DR\n",
    "### - We calculate ugly shit and put the result in every cell.\n",
    "\n"
   ],
   "cell_type": "markdown",
   "metadata": {}
  },
  {
   "source": [
    "(U really don't want to read this... :) )\n",
    "\n",
    "We're gonna populate it with a pretty ugly calculations:\n",
    "- Every cell will contain a number that is:\n",
    "- a sum of a product of row number cubed and column number squared and a product of row number and column number,\n",
    "- well... that sounds awfull, so let's write it as an equation.\n",
    "\n",
    "\n",
    "Let's call row number R, column number C, then what we get is:\n",
    "- result = ( (R^3) x (C^2) ) + ( RxC ),\n",
    "- and we put this result of this calculation in every cell, with respect to its row and column number."
   ],
   "cell_type": "markdown",
   "metadata": {}
  },
  {
   "source": [
    "### First we do it python default way - with list comprehension - and time the first run:"
   ],
   "cell_type": "markdown",
   "metadata": {}
  },
  {
   "cell_type": "code",
   "execution_count": 3,
   "metadata": {},
   "outputs": [
    {
     "output_type": "stream",
     "name": "stdout",
     "text": [
      "Wall time: 2.89 s\n"
     ]
    }
   ],
   "source": [
    "def f(x,y):\n",
    "    return [[(i**3) * (j**2) + i*j for j in range(y)] for i in range(x)]\n",
    "%time res = f(ROWS, COLUMNS)"
   ]
  },
  {
   "source": [
    "(\"Wall time\" is just a fancy way to say \"time it took your pc to run this piece\".)"
   ],
   "cell_type": "markdown",
   "metadata": {}
  },
  {
   "source": [
    "Let's check how it scores in an average of multiple runs:"
   ],
   "cell_type": "markdown",
   "metadata": {}
  },
  {
   "cell_type": "code",
   "execution_count": 4,
   "metadata": {},
   "outputs": [
    {
     "output_type": "stream",
     "name": "stdout",
     "text": [
      "3.08 s ± 316 ms per loop (mean ± std. dev. of 7 runs, 1 loop each)\n"
     ]
    }
   ],
   "source": [
    "%timeit f(ROWS, COLUMNS)"
   ]
  },
  {
   "source": [
    "### Now let's see how it works with a numpy array, and time the first run:"
   ],
   "cell_type": "markdown",
   "metadata": {}
  },
  {
   "cell_type": "code",
   "execution_count": 5,
   "metadata": {},
   "outputs": [
    {
     "output_type": "stream",
     "name": "stdout",
     "text": [
      "Wall time: 3.52 s\n"
     ]
    }
   ],
   "source": [
    "def numpy_f(x,y):\n",
    "    np_arrray = np.zeros(shape=(x,y), dtype=np.int64)\n",
    "    for i in range(x):\n",
    "        for j in range(y):\n",
    "            np_arrray[i,j] = (i**3) * (j**2) + i*j\n",
    "    return np_arrray\n",
    "    \n",
    "%time res = numpy_f(ROWS, COLUMNS)"
   ]
  },
  {
   "source": [
    "Let's check how it scores in an average of multiple runs:"
   ],
   "cell_type": "markdown",
   "metadata": {}
  },
  {
   "cell_type": "code",
   "execution_count": 6,
   "metadata": {},
   "outputs": [
    {
     "output_type": "stream",
     "name": "stdout",
     "text": [
      "3.5 s ± 90.3 ms per loop (mean ± std. dev. of 7 runs, 1 loop each)\n"
     ]
    }
   ],
   "source": [
    "%timeit numpy_f(ROWS, COLUMNS)"
   ]
  },
  {
   "source": [
    "### And finally let's create compiled version of our function using @njit decorator we imported from Numba. Then we time it:\n",
    "(Also we're using numpy, because that's how you get crazy times after compiling to machine code.)"
   ],
   "cell_type": "markdown",
   "metadata": {}
  },
  {
   "cell_type": "code",
   "execution_count": 7,
   "metadata": {},
   "outputs": [
    {
     "output_type": "stream",
     "name": "stdout",
     "text": [
      "Wall time: 624 ms\n"
     ]
    }
   ],
   "source": [
    "@njit\n",
    "def machine_f(x,y):\n",
    "    np_arrray = np.zeros(shape=(x,y), dtype=np.int64)\n",
    "    for i in range(x):\n",
    "        for j in range(y):\n",
    "            np_arrray[i,j] = (i**3) * (j**2) + i*j\n",
    "    return np_arrray\n",
    "\n",
    "# We could also use the fact that we already created this function before,\n",
    "# and just create a compiled version of it like this:\n",
    "# machine_f = njit()(numpy_f)\n",
    "\n",
    "%time res = machine_f(ROWS, COLUMNS)"
   ]
  },
  {
   "source": [
    "Notice that the first run wasn't exceptionaly fast, since it compiles the function when you use (call) it for the first time."
   ],
   "cell_type": "markdown",
   "metadata": {}
  },
  {
   "source": [
    "And now that it's compiled into a machine code lets check how it scores in an average of multiple runs:"
   ],
   "cell_type": "markdown",
   "metadata": {}
  },
  {
   "cell_type": "code",
   "execution_count": 8,
   "metadata": {},
   "outputs": [
    {
     "output_type": "stream",
     "name": "stdout",
     "text": [
      "16.9 ms ± 742 µs per loop (mean ± std. dev. of 7 runs, 100 loops each)\n"
     ]
    }
   ],
   "source": [
    "%timeit machine_f(ROWS, COLUMNS)"
   ]
  },
  {
   "source": [
    "### Wow! That's awesome! It's pretty quick in comparison with the python interpreted code. :D\n",
    "We went down from around 3 seconds per run with python list to around 16 milliseconds in machine code!"
   ],
   "cell_type": "markdown",
   "metadata": {}
  },
  {
   "source": [
    "## Conclusion:\n",
    "\n",
    "It's sometimes worth getting the code into machinve version, but u need a specific circumstances.\n",
    "\n",
    "If you're just gonna run the function ONCE, it's not really worth the effort. \n",
    "\n",
    "But if you're about to use the same, big, bulky function A LOT OF TIMES in your project\n",
    "it's worth considering compiling it!\n",
    "\n"
   ],
   "cell_type": "markdown",
   "metadata": {}
  },
  {
   "source": [
    "#### I u like to 'gotta go fast' check [these performance tips](https://numba.pydata.org/numba-doc/dev/user/performance-tips.html) on Numba documentation webpage."
   ],
   "cell_type": "markdown",
   "metadata": {}
  },
  {
   "source": [
    "## It's been fun. :) Have a nice day!"
   ],
   "cell_type": "markdown",
   "metadata": {}
  }
 ]
}